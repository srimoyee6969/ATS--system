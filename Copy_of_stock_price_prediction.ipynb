{
  "nbformat": 4,
  "nbformat_minor": 0,
  "metadata": {
    "colab": {
      "provenance": [],
      "authorship_tag": "ABX9TyOEzOQaqW4yc+5zHI8xz59P",
      "include_colab_link": true
    },
    "kernelspec": {
      "name": "python3",
      "display_name": "Python 3"
    },
    "language_info": {
      "name": "python"
    }
  },
  "cells": [
    {
      "cell_type": "markdown",
      "metadata": {
        "id": "view-in-github",
        "colab_type": "text"
      },
      "source": [
        "<a href=\"https://colab.research.google.com/github/srimoyee6969/ATS--system/blob/main/Copy_of_stock_price_prediction.ipynb\" target=\"_parent\"><img src=\"https://colab.research.google.com/assets/colab-badge.svg\" alt=\"Open In Colab\"/></a>"
      ]
    },
    {
      "cell_type": "code",
      "execution_count": null,
      "metadata": {
        "id": "z9KgYYD5vehy"
      },
      "outputs": [],
      "source": [
        "import pandas as pd\n",
        "import numpy as np\n",
        "import matplotlib.pyplot as plt\n",
        "from sklearn.preprocessing import MinMaxScaler\n",
        "from tensorflow.keras.models import Sequential\n",
        "from tensorflow.keras.layers import Dense, LSTM\n",
        "from sklearn.metrics import mean_squared_error\n",
        "import math\n",
        "from google.colab import files\n",
        "import yfinance as yf\n"
      ]
    },
    {
      "cell_type": "code",
      "source": [
        "stock_ticker = 'AAPL'\n",
        "start_date = '2015-01-01'\n",
        "end_date = '2023-12-31'\n",
        "\n",
        "df = yf.download(stock_ticker, start=start_date, end=end_date)\n",
        "\n",
        "print(\"Downloaded stock data:\")\n",
        "print(df.head())\n"
      ],
      "metadata": {
        "colab": {
          "base_uri": "https://localhost:8080/"
        },
        "id": "E50lFrJDwE1_",
        "outputId": "67fc089e-03ad-4399-86b8-125210b142b7"
      },
      "execution_count": null,
      "outputs": [
        {
          "output_type": "stream",
          "name": "stderr",
          "text": [
            "\r[*********************100%***********************]  1 of 1 completed"
          ]
        },
        {
          "output_type": "stream",
          "name": "stdout",
          "text": [
            "Downloaded stock data:\n",
            "                 Open       High        Low      Close  Adj Close     Volume\n",
            "Date                                                                        \n",
            "2015-01-02  27.847500  27.860001  26.837500  27.332500  24.373953  212818400\n",
            "2015-01-05  27.072500  27.162500  26.352501  26.562500  23.687304  257142000\n",
            "2015-01-06  26.635000  26.857500  26.157499  26.565001  23.689531  263188400\n",
            "2015-01-07  26.799999  27.049999  26.674999  26.937500  24.021706  160423600\n",
            "2015-01-08  27.307501  28.037500  27.174999  27.972500  24.944685  237458000\n"
          ]
        },
        {
          "output_type": "stream",
          "name": "stderr",
          "text": [
            "\n"
          ]
        }
      ]
    },
    {
      "cell_type": "code",
      "source": [
        "df2 = df.reset_index()['Close']"
      ],
      "metadata": {
        "id": "t1AK71nswge6"
      },
      "execution_count": null,
      "outputs": []
    },
    {
      "cell_type": "code",
      "source": [
        "df2[1228: ]"
      ],
      "metadata": {
        "colab": {
          "base_uri": "https://localhost:8080/",
          "height": 458
        },
        "id": "I2fU0PqcxTS9",
        "outputId": "bd5f2850-e582-4c69-ef2a-a2828ce53908"
      },
      "execution_count": null,
      "outputs": [
        {
          "output_type": "execute_result",
          "data": {
            "text/plain": [
              "1228     66.775002\n",
              "1229     66.572502\n",
              "1230     65.797501\n",
              "1231     65.502502\n",
              "1232     65.445000\n",
              "           ...    \n",
              "2259    193.600006\n",
              "2260    193.050003\n",
              "2261    193.149994\n",
              "2262    193.580002\n",
              "2263    192.529999\n",
              "Name: Close, Length: 1036, dtype: float64"
            ],
            "text/html": [
              "<div>\n",
              "<style scoped>\n",
              "    .dataframe tbody tr th:only-of-type {\n",
              "        vertical-align: middle;\n",
              "    }\n",
              "\n",
              "    .dataframe tbody tr th {\n",
              "        vertical-align: top;\n",
              "    }\n",
              "\n",
              "    .dataframe thead th {\n",
              "        text-align: right;\n",
              "    }\n",
              "</style>\n",
              "<table border=\"1\" class=\"dataframe\">\n",
              "  <thead>\n",
              "    <tr style=\"text-align: right;\">\n",
              "      <th></th>\n",
              "      <th>Close</th>\n",
              "    </tr>\n",
              "  </thead>\n",
              "  <tbody>\n",
              "    <tr>\n",
              "      <th>1228</th>\n",
              "      <td>66.775002</td>\n",
              "    </tr>\n",
              "    <tr>\n",
              "      <th>1229</th>\n",
              "      <td>66.572502</td>\n",
              "    </tr>\n",
              "    <tr>\n",
              "      <th>1230</th>\n",
              "      <td>65.797501</td>\n",
              "    </tr>\n",
              "    <tr>\n",
              "      <th>1231</th>\n",
              "      <td>65.502502</td>\n",
              "    </tr>\n",
              "    <tr>\n",
              "      <th>1232</th>\n",
              "      <td>65.445000</td>\n",
              "    </tr>\n",
              "    <tr>\n",
              "      <th>...</th>\n",
              "      <td>...</td>\n",
              "    </tr>\n",
              "    <tr>\n",
              "      <th>2259</th>\n",
              "      <td>193.600006</td>\n",
              "    </tr>\n",
              "    <tr>\n",
              "      <th>2260</th>\n",
              "      <td>193.050003</td>\n",
              "    </tr>\n",
              "    <tr>\n",
              "      <th>2261</th>\n",
              "      <td>193.149994</td>\n",
              "    </tr>\n",
              "    <tr>\n",
              "      <th>2262</th>\n",
              "      <td>193.580002</td>\n",
              "    </tr>\n",
              "    <tr>\n",
              "      <th>2263</th>\n",
              "      <td>192.529999</td>\n",
              "    </tr>\n",
              "  </tbody>\n",
              "</table>\n",
              "<p>1036 rows × 1 columns</p>\n",
              "</div><br><label><b>dtype:</b> float64</label>"
            ]
          },
          "metadata": {},
          "execution_count": 10
        }
      ]
    },
    {
      "cell_type": "code",
      "source": [
        "df1 = df.reset_index()['Close']"
      ],
      "metadata": {
        "id": "L47_ilI23HPV"
      },
      "execution_count": null,
      "outputs": []
    },
    {
      "cell_type": "code",
      "source": [
        "df1.shape"
      ],
      "metadata": {
        "colab": {
          "base_uri": "https://localhost:8080/"
        },
        "id": "h8InS0O43fA_",
        "outputId": "8591359c-4566-424e-c34e-39287c900230"
      },
      "execution_count": null,
      "outputs": [
        {
          "output_type": "execute_result",
          "data": {
            "text/plain": [
              "(2264,)"
            ]
          },
          "metadata": {},
          "execution_count": 12
        }
      ]
    },
    {
      "cell_type": "code",
      "source": [
        "plt.plot(df1)"
      ],
      "metadata": {
        "colab": {
          "base_uri": "https://localhost:8080/",
          "height": 447
        },
        "id": "yLdC5KcG3lwQ",
        "outputId": "69af75e0-568c-44cd-9a40-6dae591190df"
      },
      "execution_count": null,
      "outputs": [
        {
          "output_type": "execute_result",
          "data": {
            "text/plain": [
              "[<matplotlib.lines.Line2D at 0x7e479543f5e0>]"
            ]
          },
          "metadata": {},
          "execution_count": 13
        },
        {
          "output_type": "display_data",
          "data": {
            "text/plain": [
              "<Figure size 640x480 with 1 Axes>"
            ],
            "image/png": "[encoded data removed]"
          },
          "metadata": {}
        }
      ]
    },
    {
      "cell_type": "code",
      "source": [
        "df1\n"
      ],
      "metadata": {
        "colab": {
          "base_uri": "https://localhost:8080/",
          "height": 458
        },
        "id": "V25id3633xr2",
        "outputId": "e4f51058-b26a-4c55-c2be-6ebd8edbddad"
      },
      "execution_count": null,
      "outputs": [
        {
          "output_type": "execute_result",
          "data": {
            "text/plain": [
              "0        27.332500\n",
              "1        26.562500\n",
              "2        26.565001\n",
              "3        26.937500\n",
              "4        27.972500\n",
              "           ...    \n",
              "2259    193.600006\n",
              "2260    193.050003\n",
              "2261    193.149994\n",
              "2262    193.580002\n",
              "2263    192.529999\n",
              "Name: Close, Length: 2264, dtype: float64"
            ],
            "text/html": [
              "<div>\n",
              "<style scoped>\n",
              "    .dataframe tbody tr th:only-of-type {\n",
              "        vertical-align: middle;\n",
              "    }\n",
              "\n",
              "    .dataframe tbody tr th {\n",
              "        vertical-align: top;\n",
              "    }\n",
              "\n",
              "    .dataframe thead th {\n",
              "        text-align: right;\n",
              "    }\n",
              "</style>\n",
              "<table border=\"1\" class=\"dataframe\">\n",
              "  <thead>\n",
              "    <tr style=\"text-align: right;\">\n",
              "      <th></th>\n",
              "      <th>Close</th>\n",
              "    </tr>\n",
              "  </thead>\n",
              "  <tbody>\n",
              "    <tr>\n",
              "      <th>0</th>\n",
              "      <td>27.332500</td>\n",
              "    </tr>\n",
              "    <tr>\n",
              "      <th>1</th>\n",
              "      <td>26.562500</td>\n",
              "    </tr>\n",
              "    <tr>\n",
              "      <th>2</th>\n",
              "      <td>26.565001</td>\n",
              "    </tr>\n",
              "    <tr>\n",
              "      <th>3</th>\n",
              "      <td>26.937500</td>\n",
              "    </tr>\n",
              "    <tr>\n",
              "      <th>4</th>\n",
              "      <td>27.972500</td>\n",
              "    </tr>\n",
              "    <tr>\n",
              "      <th>...</th>\n",
              "      <td>...</td>\n",
              "    </tr>\n",
              "    <tr>\n",
              "      <th>2259</th>\n",
              "      <td>193.600006</td>\n",
              "    </tr>\n",
              "    <tr>\n",
              "      <th>2260</th>\n",
              "      <td>193.050003</td>\n",
              "    </tr>\n",
              "    <tr>\n",
              "      <th>2261</th>\n",
              "      <td>193.149994</td>\n",
              "    </tr>\n",
              "    <tr>\n",
              "      <th>2262</th>\n",
              "      <td>193.580002</td>\n",
              "    </tr>\n",
              "    <tr>\n",
              "      <th>2263</th>\n",
              "      <td>192.529999</td>\n",
              "    </tr>\n",
              "  </tbody>\n",
              "</table>\n",
              "<p>2264 rows × 1 columns</p>\n",
              "</div><br><label><b>dtype:</b> float64</label>"
            ]
          },
          "metadata": {},
          "execution_count": 14
        }
      ]
    },
    {
      "cell_type": "code",
      "source": [
        "scaler=MinMaxScaler(feature_range=(0,1))\n",
        "df1=scaler.fit_transform(np.array(df1).reshape(-1,1))"
      ],
      "metadata": {
        "id": "-dPIW3Ym4LtX"
      },
      "execution_count": null,
      "outputs": []
    },
    {
      "cell_type": "code",
      "source": [
        "print(df1)"
      ],
      "metadata": {
        "colab": {
          "base_uri": "https://localhost:8080/"
        },
        "id": "4vlqMwQo4Nft",
        "outputId": "ac7247a5-28d5-44fc-f36e-fcb24e5977fb"
      },
      "execution_count": null,
      "outputs": [
        {
          "output_type": "stream",
          "name": "stdout",
          "text": [
            "[[0.02704744]\n",
            " [0.02266059]\n",
            " [0.02267484]\n",
            " ...\n",
            " [0.97174188]\n",
            " [0.97419172]\n",
            " [0.96820965]]\n"
          ]
        }
      ]
    },
    {
      "cell_type": "code",
      "source": [
        "##splitting dataset into train and test split\n",
        "training_size=int(len(df1)*0.65)\n",
        "test_size=len(df1)-training_size\n",
        "train_data,test_data=df1[0:training_size,:],df1[training_size:len(df1),:1]"
      ],
      "metadata": {
        "id": "3T44_ck-4RAe"
      },
      "execution_count": null,
      "outputs": []
    },
    {
      "cell_type": "code",
      "source": [
        "training_size,test_size"
      ],
      "metadata": {
        "colab": {
          "base_uri": "https://localhost:8080/"
        },
        "id": "V29qP_cN4XIW",
        "outputId": "af9af3be-b831-4b96-b6b4-a9a56640efe4"
      },
      "execution_count": null,
      "outputs": [
        {
          "output_type": "execute_result",
          "data": {
            "text/plain": [
              "(1471, 793)"
            ]
          },
          "metadata": {},
          "execution_count": 18
        }
      ]
    },
    {
      "cell_type": "code",
      "source": [
        "train_data"
      ],
      "metadata": {
        "colab": {
          "base_uri": "https://localhost:8080/"
        },
        "id": "Qb-txSS94aKJ",
        "outputId": "2a2de535-70d8-40e9-827e-f84deea97ac1"
      },
      "execution_count": null,
      "outputs": [
        {
          "output_type": "execute_result",
          "data": {
            "text/plain": [
              "array([[0.02704744],\n",
              "       [0.02266059],\n",
              "       [0.02267484],\n",
              "       ...,\n",
              "       [0.49152543],\n",
              "       [0.49101266],\n",
              "       [0.50052701]])"
            ]
          },
          "metadata": {},
          "execution_count": 19
        }
      ]
    },
    {
      "cell_type": "code",
      "source": [
        "import numpy\n",
        "# convert an array of values into a dataset matrix\n",
        "def create_dataset(dataset, time_step=1):\n",
        "\tdataX, dataY = [], []\n",
        "\tfor i in range(len(dataset)-time_step-1):\n",
        "\t\ta = dataset[i:(i+time_step), 0]   ###i=0, 0,1,2,3-----99   100\n",
        "\t\tdataX.append(a)\n",
        "\t\tdataY.append(dataset[i + time_step, 0])\n",
        "\treturn numpy.array(dataX), numpy.array(dataY)"
      ],
      "metadata": {
        "id": "8XNAok414j9Y"
      },
      "execution_count": null,
      "outputs": []
    },
    {
      "cell_type": "code",
      "source": [
        "# reshape into X=t,t+1,t+2,t+3 and Y=t+4\n",
        "time_step = 100\n",
        "X_train, y_train = create_dataset(train_data, time_step)\n",
        "X_test, ytest = create_dataset(test_data, time_step)"
      ],
      "metadata": {
        "id": "Z8EB3-7K4pGf"
      },
      "execution_count": null,
      "outputs": []
    },
    {
      "cell_type": "code",
      "source": [
        "print(X_train.shape), print(y_train.shape)"
      ],
      "metadata": {
        "colab": {
          "base_uri": "https://localhost:8080/"
        },
        "id": "Uekh9xiu4t-H",
        "outputId": "30aa4a7b-a7b4-4f2c-abbf-9ec0a19b29f3"
      },
      "execution_count": null,
      "outputs": [
        {
          "output_type": "stream",
          "name": "stdout",
          "text": [
            "(1370, 100)\n",
            "(1370,)\n"
          ]
        },
        {
          "output_type": "execute_result",
          "data": {
            "text/plain": [
              "(None, None)"
            ]
          },
          "metadata": {},
          "execution_count": 22
        }
      ]
    },
    {
      "cell_type": "code",
      "source": [
        "print(X_test.shape), print(ytest.shape)"
      ],
      "metadata": {
        "colab": {
          "base_uri": "https://localhost:8080/"
        },
        "id": "12b_b3bC4xDo",
        "outputId": "f1cd241d-9d38-4e3c-ece5-9abde0e1ef41"
      },
      "execution_count": null,
      "outputs": [
        {
          "output_type": "stream",
          "name": "stdout",
          "text": [
            "(692, 100)\n",
            "(692,)\n"
          ]
        },
        {
          "output_type": "execute_result",
          "data": {
            "text/plain": [
              "(None, None)"
            ]
          },
          "metadata": {},
          "execution_count": 23
        }
      ]
    },
    {
      "cell_type": "code",
      "source": [
        "# reshape input to be [samples, time steps, features] which is required for LSTM\n",
        "X_train =X_train.reshape(X_train.shape[0],X_train.shape[1] , 1)\n",
        "X_test = X_test.reshape(X_test.shape[0],X_test.shape[1] , 1)"
      ],
      "metadata": {
        "id": "dOyACMpd4yXu"
      },
      "execution_count": null,
      "outputs": []
    },
    {
      "cell_type": "code",
      "source": [
        "### Create the Stacked LSTM model\n",
        "from tensorflow.keras.models import Sequential\n",
        "from tensorflow.keras.layers import Dense\n",
        "from tensorflow.keras.layers import LSTM"
      ],
      "metadata": {
        "id": "cFPcR41i42Gv"
      },
      "execution_count": null,
      "outputs": []
    },
    {
      "cell_type": "code",
      "source": [
        "model=Sequential()\n",
        "model.add(LSTM(50,return_sequences=True,input_shape=(100,1)))\n",
        "model.add(LSTM(50,return_sequences=True))\n",
        "model.add(LSTM(50))\n",
        "model.add(Dense(1))\n",
        "model.compile(loss='mean_squared_error',optimizer='adam')"
      ],
      "metadata": {
        "colab": {
          "base_uri": "https://localhost:8080/"
        },
        "id": "s8lsgPZV45PQ",
        "outputId": "777689cb-4bf0-4651-d4c6-a1b42581371a"
      },
      "execution_count": null,
      "outputs": [
        {
          "output_type": "stream",
          "name": "stderr",
          "text": [
            "/usr/local/lib/python3.10/dist-packages/keras/src/layers/rnn/rnn.py:204: UserWarning: Do not pass an `input_shape`/`input_dim` argument to a layer. When using Sequential models, prefer using an `Input(shape)` object as the first layer in the model instead.\n",
            "  super().__init__(**kwargs)\n"
          ]
        }
      ]
    },
    {
      "cell_type": "code",
      "source": [
        "model.summary()"
      ],
      "metadata": {
        "colab": {
          "base_uri": "https://localhost:8080/",
          "height": 261
        },
        "id": "6U8uqn_o4_Wy",
        "outputId": "286886b6-de75-463d-a79f-19a72a585b7b"
      },
      "execution_count": null,
      "outputs": [
        {
          "output_type": "display_data",
          "data": {
            "text/plain": [
              "\u001b[1mModel: \"sequential\"\u001b[0m\n"
            ],
            "text/html": [
              "<pre style=\"white-space:pre;overflow-x:auto;line-height:normal;font-family:Menlo,'DejaVu Sans Mono',consolas,'Courier New',monospace\"><span style=\"font-weight: bold\">Model: \"sequential\"</span>\n",
              "</pre>\n"
            ]
          },
          "metadata": {}
        },
        {
          "output_type": "display_data",
          "data": {
            "text/plain": [
              "┏━━━━━━━━━━━━━━━━━━━━━━━━━━━━━━━━━━━━━━┳━━━━━━━━━━━━━━━━━━━━━━━━━━━━━┳━━━━━━━━━━━━━━━━━┓\n",
              "┃\u001b[1m \u001b[0m\u001b[1mLayer (type)                        \u001b[0m\u001b[1m \u001b[0m┃\u001b[1m \u001b[0m\u001b[1mOutput Shape               \u001b[0m\u001b[1m \u001b[0m┃\u001b[1m \u001b[0m\u001b[1m        Param #\u001b[0m\u001b[1m \u001b[0m┃\n",
              "┡━━━━━━━━━━━━━━━━━━━━━━━━━━━━━━━━━━━━━━╇━━━━━━━━━━━━━━━━━━━━━━━━━━━━━╇━━━━━━━━━━━━━━━━━┩\n",
              "│ lstm (\u001b[38;5;33mLSTM\u001b[0m)                          │ (\u001b[38;5;45mNone\u001b[0m, \u001b[38;5;34m100\u001b[0m, \u001b[38;5;34m50\u001b[0m)             │          \u001b[38;5;34m10,400\u001b[0m │\n",
              "├──────────────────────────────────────┼─────────────────────────────┼─────────────────┤\n",
              "│ lstm_1 (\u001b[38;5;33mLSTM\u001b[0m)                        │ (\u001b[38;5;45mNone\u001b[0m, \u001b[38;5;34m100\u001b[0m, \u001b[38;5;34m50\u001b[0m)             │          \u001b[38;5;34m20,200\u001b[0m │\n",
              "├──────────────────────────────────────┼─────────────────────────────┼─────────────────┤\n",
              "│ lstm_2 (\u001b[38;5;33mLSTM\u001b[0m)                        │ (\u001b[38;5;45mNone\u001b[0m, \u001b[38;5;34m50\u001b[0m)                  │          \u001b[38;5;34m20,200\u001b[0m │\n",
              "├──────────────────────────────────────┼─────────────────────────────┼─────────────────┤\n",
              "│ dense (\u001b[38;5;33mDense\u001b[0m)                        │ (\u001b[38;5;45mNone\u001b[0m, \u001b[38;5;34m1\u001b[0m)                   │              \u001b[38;5;34m51\u001b[0m │\n",
              "└──────────────────────────────────────┴─────────────────────────────┴─────────────────┘\n"
            ],
            "text/html": [
              "<pre style=\"white-space:pre;overflow-x:auto;line-height:normal;font-family:Menlo,'DejaVu Sans Mono',consolas,'Courier New',monospace\">┏━━━━━━━━━━━━━━━━━━━━━━━━━━━━━━━━━━━━━━┳━━━━━━━━━━━━━━━━━━━━━━━━━━━━━┳━━━━━━━━━━━━━━━━━┓\n",
              "┃<span style=\"font-weight: bold\"> Layer (type)                         </span>┃<span style=\"font-weight: bold\"> Output Shape                </span>┃<span style=\"font-weight: bold\">         Param # </span>┃\n",
              "┡━━━━━━━━━━━━━━━━━━━━━━━━━━━━━━━━━━━━━━╇━━━━━━━━━━━━━━━━━━━━━━━━━━━━━╇━━━━━━━━━━━━━━━━━┩\n",
              "│ lstm (<span style=\"color: #0087ff; text-decoration-color: #0087ff\">LSTM</span>)                          │ (<span style=\"color: #00d7ff; text-decoration-color: #00d7ff\">None</span>, <span style=\"color: #00af00; text-decoration-color: #00af00\">100</span>, <span style=\"color: #00af00; text-decoration-color: #00af00\">50</span>)             │          <span style=\"color: #00af00; text-decoration-color: #00af00\">10,400</span> │\n",
              "├──────────────────────────────────────┼─────────────────────────────┼─────────────────┤\n",
              "│ lstm_1 (<span style=\"color: #0087ff; text-decoration-color: #0087ff\">LSTM</span>)                        │ (<span style=\"color: #00d7ff; text-decoration-color: #00d7ff\">None</span>, <span style=\"color: #00af00; text-decoration-color: #00af00\">100</span>, <span style=\"color: #00af00; text-decoration-color: #00af00\">50</span>)             │          <span style=\"color: #00af00; text-decoration-color: #00af00\">20,200</span> │\n",
              "├──────────────────────────────────────┼─────────────────────────────┼─────────────────┤\n",
              "│ lstm_2 (<span style=\"color: #0087ff; text-decoration-color: #0087ff\">LSTM</span>)                        │ (<span style=\"color: #00d7ff; text-decoration-color: #00d7ff\">None</span>, <span style=\"color: #00af00; text-decoration-color: #00af00\">50</span>)                  │          <span style=\"color: #00af00; text-decoration-color: #00af00\">20,200</span> │\n",
              "├──────────────────────────────────────┼─────────────────────────────┼─────────────────┤\n",
              "│ dense (<span style=\"color: #0087ff; text-decoration-color: #0087ff\">Dense</span>)                        │ (<span style=\"color: #00d7ff; text-decoration-color: #00d7ff\">None</span>, <span style=\"color: #00af00; text-decoration-color: #00af00\">1</span>)                   │              <span style=\"color: #00af00; text-decoration-color: #00af00\">51</span> │\n",
              "└──────────────────────────────────────┴─────────────────────────────┴─────────────────┘\n",
              "</pre>\n"
            ]
          },
          "metadata": {}
        },
        {
          "output_type": "display_data",
          "data": {
            "text/plain": [
              "\u001b[1m Total params: \u001b[0m\u001b[38;5;34m50,851\u001b[0m (198.64 KB)\n"
            ],
            "text/html": [
              "<pre style=\"white-space:pre;overflow-x:auto;line-height:normal;font-family:Menlo,'DejaVu Sans Mono',consolas,'Courier New',monospace\"><span style=\"font-weight: bold\"> Total params: </span><span style=\"color: #00af00; text-decoration-color: #00af00\">50,851</span> (198.64 KB)\n",
              "</pre>\n"
            ]
          },
          "metadata": {}
        },
        {
          "output_type": "display_data",
          "data": {
            "text/plain": [
              "\u001b[1m Trainable params: \u001b[0m\u001b[38;5;34m50,851\u001b[0m (198.64 KB)\n"
            ],
            "text/html": [
              "<pre style=\"white-space:pre;overflow-x:auto;line-height:normal;font-family:Menlo,'DejaVu Sans Mono',consolas,'Courier New',monospace\"><span style=\"font-weight: bold\"> Trainable params: </span><span style=\"color: #00af00; text-decoration-color: #00af00\">50,851</span> (198.64 KB)\n",
              "</pre>\n"
            ]
          },
          "metadata": {}
        },
        {
          "output_type": "display_data",
          "data": {
            "text/plain": [
              "\u001b[1m Non-trainable params: \u001b[0m\u001b[38;5;34m0\u001b[0m (0.00 B)\n"
            ],
            "text/html": [
              "<pre style=\"white-space:pre;overflow-x:auto;line-height:normal;font-family:Menlo,'DejaVu Sans Mono',consolas,'Courier New',monospace\"><span style=\"font-weight: bold\"> Non-trainable params: </span><span style=\"color: #00af00; text-decoration-color: #00af00\">0</span> (0.00 B)\n",
              "</pre>\n"
            ]
          },
          "metadata": {}
        }
      ]
    },
    {
      "cell_type": "code",
      "source": [
        "model.fit(X_train,y_train,validation_data=(X_test,ytest),epochs=50,batch_size=64,verbose=1)"
      ],
      "metadata": {
        "colab": {
          "base_uri": "https://localhost:8080/"
        },
        "id": "bmknEKtb5Dt7",
        "outputId": "16d8aea0-8668-44e3-adcb-e5d576027fa2"
      },
      "execution_count": null,
      "outputs": [
        {
          "output_type": "stream",
          "name": "stdout",
          "text": [
            "Epoch 1/50\n",
            "\u001b[1m22/22\u001b[0m \u001b[32m━━━━━━━━━━━━━━━━━━━━\u001b[0m\u001b[37m\u001b[0m \u001b[1m9s\u001b[0m 208ms/step - loss: 0.0149 - val_loss: 0.0213\n",
            "Epoch 2/50\n",
            "\u001b[1m22/22\u001b[0m \u001b[32m━━━━━━━━━━━━━━━━━━━━\u001b[0m\u001b[37m\u001b[0m \u001b[1m6s\u001b[0m 263ms/step - loss: 6.9474e-04 - val_loss: 0.0021\n",
            "Epoch 3/50\n",
            "\u001b[1m22/22\u001b[0m \u001b[32m━━━━━━━━━━━━━━━━━━━━\u001b[0m\u001b[37m\u001b[0m \u001b[1m8s\u001b[0m 177ms/step - loss: 3.7359e-04 - val_loss: 0.0047\n",
            "Epoch 4/50\n",
            "\u001b[1m22/22\u001b[0m \u001b[32m━━━━━━━━━━━━━━━━━━━━\u001b[0m\u001b[37m\u001b[0m \u001b[1m7s\u001b[0m 267ms/step - loss: 3.7440e-04 - val_loss: 0.0025\n",
            "Epoch 5/50\n",
            "\u001b[1m22/22\u001b[0m \u001b[32m━━━━━━━━━━━━━━━━━━━━\u001b[0m\u001b[37m\u001b[0m \u001b[1m4s\u001b[0m 179ms/step - loss: 3.6735e-04 - val_loss: 0.0022\n",
            "Epoch 6/50\n",
            "\u001b[1m22/22\u001b[0m \u001b[32m━━━━━━━━━━━━━━━━━━━━\u001b[0m\u001b[37m\u001b[0m \u001b[1m5s\u001b[0m 180ms/step - loss: 3.1135e-04 - val_loss: 0.0026\n",
            "Epoch 7/50\n",
            "\u001b[1m22/22\u001b[0m \u001b[32m━━━━━━━━━━━━━━━━━━━━\u001b[0m\u001b[37m\u001b[0m \u001b[1m6s\u001b[0m 201ms/step - loss: 3.1458e-04 - val_loss: 0.0020\n",
            "Epoch 8/50\n",
            "\u001b[1m22/22\u001b[0m \u001b[32m━━━━━━━━━━━━━━━━━━━━\u001b[0m\u001b[37m\u001b[0m \u001b[1m4s\u001b[0m 176ms/step - loss: 3.2493e-04 - val_loss: 0.0023\n",
            "Epoch 9/50\n",
            "\u001b[1m22/22\u001b[0m \u001b[32m━━━━━━━━━━━━━━━━━━━━\u001b[0m\u001b[37m\u001b[0m \u001b[1m5s\u001b[0m 214ms/step - loss: 3.3620e-04 - val_loss: 0.0035\n",
            "Epoch 10/50\n",
            "\u001b[1m22/22\u001b[0m \u001b[32m━━━━━━━━━━━━━━━━━━━━\u001b[0m\u001b[37m\u001b[0m \u001b[1m5s\u001b[0m 214ms/step - loss: 2.6275e-04 - val_loss: 0.0026\n",
            "Epoch 11/50\n",
            "\u001b[1m22/22\u001b[0m \u001b[32m━━━━━━━━━━━━━━━━━━━━\u001b[0m\u001b[37m\u001b[0m \u001b[1m4s\u001b[0m 178ms/step - loss: 2.7865e-04 - val_loss: 0.0019\n",
            "Epoch 12/50\n",
            "\u001b[1m22/22\u001b[0m \u001b[32m━━━━━━━━━━━━━━━━━━━━\u001b[0m\u001b[37m\u001b[0m \u001b[1m5s\u001b[0m 230ms/step - loss: 2.8998e-04 - val_loss: 0.0035\n",
            "Epoch 13/50\n",
            "\u001b[1m22/22\u001b[0m \u001b[32m━━━━━━━━━━━━━━━━━━━━\u001b[0m\u001b[37m\u001b[0m \u001b[1m5s\u001b[0m 196ms/step - loss: 2.7680e-04 - val_loss: 0.0041\n",
            "Epoch 14/50\n",
            "\u001b[1m22/22\u001b[0m \u001b[32m━━━━━━━━━━━━━━━━━━━━\u001b[0m\u001b[37m\u001b[0m \u001b[1m5s\u001b[0m 176ms/step - loss: 2.6731e-04 - val_loss: 0.0104\n",
            "Epoch 15/50\n",
            "\u001b[1m22/22\u001b[0m \u001b[32m━━━━━━━━━━━━━━━━━━━━\u001b[0m\u001b[37m\u001b[0m \u001b[1m7s\u001b[0m 254ms/step - loss: 2.8374e-04 - val_loss: 0.0033\n",
            "Epoch 16/50\n",
            "\u001b[1m22/22\u001b[0m \u001b[32m━━━━━━━━━━━━━━━━━━━━\u001b[0m\u001b[37m\u001b[0m \u001b[1m4s\u001b[0m 177ms/step - loss: 2.3482e-04 - val_loss: 0.0016\n",
            "Epoch 17/50\n",
            "\u001b[1m22/22\u001b[0m \u001b[32m━━━━━━━━━━━━━━━━━━━━\u001b[0m\u001b[37m\u001b[0m \u001b[1m5s\u001b[0m 179ms/step - loss: 2.7310e-04 - val_loss: 0.0058\n",
            "Epoch 18/50\n",
            "\u001b[1m22/22\u001b[0m \u001b[32m━━━━━━━━━━━━━━━━━━━━\u001b[0m\u001b[37m\u001b[0m \u001b[1m6s\u001b[0m 230ms/step - loss: 1.8332e-04 - val_loss: 0.0019\n",
            "Epoch 19/50\n",
            "\u001b[1m22/22\u001b[0m \u001b[32m━━━━━━━━━━━━━━━━━━━━\u001b[0m\u001b[37m\u001b[0m \u001b[1m4s\u001b[0m 177ms/step - loss: 2.5294e-04 - val_loss: 0.0060\n",
            "Epoch 20/50\n",
            "\u001b[1m22/22\u001b[0m \u001b[32m━━━━━━━━━━━━━━━━━━━━\u001b[0m\u001b[37m\u001b[0m \u001b[1m6s\u001b[0m 215ms/step - loss: 2.0075e-04 - val_loss: 0.0037\n",
            "Epoch 21/50\n",
            "\u001b[1m22/22\u001b[0m \u001b[32m━━━━━━━━━━━━━━━━━━━━\u001b[0m\u001b[37m\u001b[0m \u001b[1m5s\u001b[0m 218ms/step - loss: 2.1652e-04 - val_loss: 0.0046\n",
            "Epoch 22/50\n",
            "\u001b[1m22/22\u001b[0m \u001b[32m━━━━━━━━━━━━━━━━━━━━\u001b[0m\u001b[37m\u001b[0m \u001b[1m4s\u001b[0m 178ms/step - loss: 1.8364e-04 - val_loss: 0.0054\n",
            "Epoch 23/50\n",
            "\u001b[1m22/22\u001b[0m \u001b[32m━━━━━━━━━━━━━━━━━━━━\u001b[0m\u001b[37m\u001b[0m \u001b[1m4s\u001b[0m 195ms/step - loss: 1.7014e-04 - val_loss: 0.0027\n",
            "Epoch 24/50\n",
            "\u001b[1m22/22\u001b[0m \u001b[32m━━━━━━━━━━━━━━━━━━━━\u001b[0m\u001b[37m\u001b[0m \u001b[1m6s\u001b[0m 211ms/step - loss: 1.8608e-04 - val_loss: 0.0024\n",
            "Epoch 25/50\n",
            "\u001b[1m22/22\u001b[0m \u001b[32m━━━━━━━━━━━━━━━━━━━━\u001b[0m\u001b[37m\u001b[0m \u001b[1m4s\u001b[0m 177ms/step - loss: 1.6550e-04 - val_loss: 0.0033\n",
            "Epoch 26/50\n",
            "\u001b[1m22/22\u001b[0m \u001b[32m━━━━━━━━━━━━━━━━━━━━\u001b[0m\u001b[37m\u001b[0m \u001b[1m6s\u001b[0m 244ms/step - loss: 1.7503e-04 - val_loss: 0.0033\n",
            "Epoch 27/50\n",
            "\u001b[1m22/22\u001b[0m \u001b[32m━━━━━━━━━━━━━━━━━━━━\u001b[0m\u001b[37m\u001b[0m \u001b[1m9s\u001b[0m 178ms/step - loss: 2.2907e-04 - val_loss: 0.0065\n",
            "Epoch 28/50\n",
            "\u001b[1m22/22\u001b[0m \u001b[32m━━━━━━━━━━━━━━━━━━━━\u001b[0m\u001b[37m\u001b[0m \u001b[1m6s\u001b[0m 257ms/step - loss: 2.5835e-04 - val_loss: 0.0017\n",
            "Epoch 29/50\n",
            "\u001b[1m22/22\u001b[0m \u001b[32m━━━━━━━━━━━━━━━━━━━━\u001b[0m\u001b[37m\u001b[0m \u001b[1m9s\u001b[0m 178ms/step - loss: 2.1285e-04 - val_loss: 0.0025\n",
            "Epoch 30/50\n",
            "\u001b[1m22/22\u001b[0m \u001b[32m━━━━━━━━━━━━━━━━━━━━\u001b[0m\u001b[37m\u001b[0m \u001b[1m5s\u001b[0m 243ms/step - loss: 1.9941e-04 - val_loss: 0.0037\n",
            "Epoch 31/50\n",
            "\u001b[1m22/22\u001b[0m \u001b[32m━━━━━━━━━━━━━━━━━━━━\u001b[0m\u001b[37m\u001b[0m \u001b[1m4s\u001b[0m 191ms/step - loss: 1.4744e-04 - val_loss: 0.0030\n",
            "Epoch 32/50\n",
            "\u001b[1m22/22\u001b[0m \u001b[32m━━━━━━━━━━━━━━━━━━━━\u001b[0m\u001b[37m\u001b[0m \u001b[1m4s\u001b[0m 178ms/step - loss: 1.4844e-04 - val_loss: 0.0033\n",
            "Epoch 33/50\n",
            "\u001b[1m22/22\u001b[0m \u001b[32m━━━━━━━━━━━━━━━━━━━━\u001b[0m\u001b[37m\u001b[0m \u001b[1m7s\u001b[0m 249ms/step - loss: 1.6914e-04 - val_loss: 0.0027\n",
            "Epoch 34/50\n",
            "\u001b[1m22/22\u001b[0m \u001b[32m━━━━━━━━━━━━━━━━━━━━\u001b[0m\u001b[37m\u001b[0m \u001b[1m9s\u001b[0m 178ms/step - loss: 1.3059e-04 - val_loss: 0.0014\n",
            "Epoch 35/50\n",
            "\u001b[1m22/22\u001b[0m \u001b[32m━━━━━━━━━━━━━━━━━━━━\u001b[0m\u001b[37m\u001b[0m \u001b[1m7s\u001b[0m 248ms/step - loss: 1.8539e-04 - val_loss: 0.0054\n",
            "Epoch 36/50\n",
            "\u001b[1m22/22\u001b[0m \u001b[32m━━━━━━━━━━━━━━━━━━━━\u001b[0m\u001b[37m\u001b[0m \u001b[1m9s\u001b[0m 183ms/step - loss: 1.7027e-04 - val_loss: 0.0052\n",
            "Epoch 37/50\n",
            "\u001b[1m22/22\u001b[0m \u001b[32m━━━━━━━━━━━━━━━━━━━━\u001b[0m\u001b[37m\u001b[0m \u001b[1m6s\u001b[0m 210ms/step - loss: 1.4419e-04 - val_loss: 0.0037\n",
            "Epoch 38/50\n",
            "\u001b[1m22/22\u001b[0m \u001b[32m━━━━━━━━━━━━━━━━━━━━\u001b[0m\u001b[37m\u001b[0m \u001b[1m4s\u001b[0m 178ms/step - loss: 1.5015e-04 - val_loss: 0.0069\n",
            "Epoch 39/50\n",
            "\u001b[1m22/22\u001b[0m \u001b[32m━━━━━━━━━━━━━━━━━━━━\u001b[0m\u001b[37m\u001b[0m \u001b[1m4s\u001b[0m 206ms/step - loss: 1.6264e-04 - val_loss: 0.0042\n",
            "Epoch 40/50\n",
            "\u001b[1m22/22\u001b[0m \u001b[32m━━━━━━━━━━━━━━━━━━━━\u001b[0m\u001b[37m\u001b[0m \u001b[1m5s\u001b[0m 200ms/step - loss: 1.7883e-04 - val_loss: 0.0054\n",
            "Epoch 41/50\n",
            "\u001b[1m22/22\u001b[0m \u001b[32m━━━━━━━━━━━━━━━━━━━━\u001b[0m\u001b[37m\u001b[0m \u001b[1m4s\u001b[0m 176ms/step - loss: 1.4115e-04 - val_loss: 0.0065\n",
            "Epoch 42/50\n",
            "\u001b[1m22/22\u001b[0m \u001b[32m━━━━━━━━━━━━━━━━━━━━\u001b[0m\u001b[37m\u001b[0m \u001b[1m6s\u001b[0m 241ms/step - loss: 2.0781e-04 - val_loss: 0.0020\n",
            "Epoch 43/50\n",
            "\u001b[1m22/22\u001b[0m \u001b[32m━━━━━━━━━━━━━━━━━━━━\u001b[0m\u001b[37m\u001b[0m \u001b[1m9s\u001b[0m 180ms/step - loss: 1.8740e-04 - val_loss: 0.0035\n",
            "Epoch 44/50\n",
            "\u001b[1m22/22\u001b[0m \u001b[32m━━━━━━━━━━━━━━━━━━━━\u001b[0m\u001b[37m\u001b[0m \u001b[1m7s\u001b[0m 261ms/step - loss: 1.3302e-04 - val_loss: 0.0052\n",
            "Epoch 45/50\n",
            "\u001b[1m22/22\u001b[0m \u001b[32m━━━━━━━━━━━━━━━━━━━━\u001b[0m\u001b[37m\u001b[0m \u001b[1m8s\u001b[0m 176ms/step - loss: 1.5741e-04 - val_loss: 0.0086\n",
            "Epoch 46/50\n",
            "\u001b[1m22/22\u001b[0m \u001b[32m━━━━━━━━━━━━━━━━━━━━\u001b[0m\u001b[37m\u001b[0m \u001b[1m6s\u001b[0m 229ms/step - loss: 1.5923e-04 - val_loss: 0.0025\n",
            "Epoch 47/50\n",
            "\u001b[1m22/22\u001b[0m \u001b[32m━━━━━━━━━━━━━━━━━━━━\u001b[0m\u001b[37m\u001b[0m \u001b[1m4s\u001b[0m 176ms/step - loss: 1.2105e-04 - val_loss: 0.0050\n",
            "Epoch 48/50\n",
            "\u001b[1m22/22\u001b[0m \u001b[32m━━━━━━━━━━━━━━━━━━━━\u001b[0m\u001b[37m\u001b[0m \u001b[1m4s\u001b[0m 179ms/step - loss: 1.2712e-04 - val_loss: 0.0062\n",
            "Epoch 49/50\n",
            "\u001b[1m22/22\u001b[0m \u001b[32m━━━━━━━━━━━━━━━━━━━━\u001b[0m\u001b[37m\u001b[0m \u001b[1m6s\u001b[0m 215ms/step - loss: 1.6185e-04 - val_loss: 0.0039\n",
            "Epoch 50/50\n",
            "\u001b[1m22/22\u001b[0m \u001b[32m━━━━━━━━━━━━━━━━━━━━\u001b[0m\u001b[37m\u001b[0m \u001b[1m4s\u001b[0m 178ms/step - loss: 1.3210e-04 - val_loss: 0.0081\n"
          ]
        },
        {
          "output_type": "execute_result",
          "data": {
            "text/plain": [
              "<keras.src.callbacks.history.History at 0x7e4794e0d690>"
            ]
          },
          "metadata": {},
          "execution_count": 28
        }
      ]
    },
    {
      "cell_type": "code",
      "source": [
        "import tensorflow as tf"
      ],
      "metadata": {
        "id": "1NKRqJ806XMy"
      },
      "execution_count": null,
      "outputs": []
    },
    {
      "cell_type": "code",
      "source": [
        "tf.__version__"
      ],
      "metadata": {
        "colab": {
          "base_uri": "https://localhost:8080/",
          "height": 36
        },
        "id": "aiN_H7Bx6agR",
        "outputId": "83cfc7c0-05e5-4b8b-cc2f-99f032e83b00"
      },
      "execution_count": null,
      "outputs": [
        {
          "output_type": "execute_result",
          "data": {
            "text/plain": [
              "'2.17.0'"
            ],
            "application/vnd.google.colaboratory.intrinsic+json": {
              "type": "string"
            }
          },
          "metadata": {},
          "execution_count": 30
        }
      ]
    },
    {
      "cell_type": "code",
      "source": [
        "### Lets Do the prediction and check performance metrics\n",
        "train_predict=model.predict(X_train)\n",
        "test_predict=model.predict(X_test)"
      ],
      "metadata": {
        "colab": {
          "base_uri": "https://localhost:8080/"
        },
        "id": "RocZw8i_6cyQ",
        "outputId": "40b94c0b-68fe-4db2-d30c-b0e128f437c7"
      },
      "execution_count": null,
      "outputs": [
        {
          "output_type": "stream",
          "name": "stdout",
          "text": [
            "\u001b[1m43/43\u001b[0m \u001b[32m━━━━━━━━━━━━━━━━━━━━\u001b[0m\u001b[37m\u001b[0m \u001b[1m4s\u001b[0m 75ms/step\n",
            "\u001b[1m22/22\u001b[0m \u001b[32m━━━━━━━━━━━━━━━━━━━━\u001b[0m\u001b[37m\u001b[0m \u001b[1m1s\u001b[0m 36ms/step\n"
          ]
        }
      ]
    },
    {
      "cell_type": "code",
      "source": [
        "##Transformback to original form\n",
        "train_predict=scaler.inverse_transform(train_predict)\n",
        "test_predict=scaler.inverse_transform(test_predict)"
      ],
      "metadata": {
        "id": "8HZr3Xxf6gDV"
      },
      "execution_count": null,
      "outputs": []
    },
    {
      "cell_type": "code",
      "source": [
        "### Calculate RMSE performance metrics\n",
        "import math\n",
        "from sklearn.metrics import mean_squared_error\n",
        "math.sqrt(mean_squared_error(y_train,train_predict))"
      ],
      "metadata": {
        "colab": {
          "base_uri": "https://localhost:8080/"
        },
        "id": "AyXBaue96jBH",
        "outputId": "c7c6e5aa-5be9-4ae2-b6fc-9f260cf1c26d"
      },
      "execution_count": null,
      "outputs": [
        {
          "output_type": "execute_result",
          "data": {
            "text/plain": [
              "50.4384349252663"
            ]
          },
          "metadata": {},
          "execution_count": 33
        }
      ]
    },
    {
      "cell_type": "code",
      "source": [
        "### Test Data RMSE\n",
        "math.sqrt(mean_squared_error(ytest,test_predict))"
      ],
      "metadata": {
        "colab": {
          "base_uri": "https://localhost:8080/"
        },
        "id": "WfBFaRAu6lze",
        "outputId": "54f3df5a-dc11-4397-fd59-fb9076e61689"
      },
      "execution_count": null,
      "outputs": [
        {
          "output_type": "execute_result",
          "data": {
            "text/plain": [
              "144.1608779499444"
            ]
          },
          "metadata": {},
          "execution_count": 34
        }
      ]
    },
    {
      "cell_type": "code",
      "source": [
        "### Plotting\n",
        "# shift train predictions for plotting\n",
        "look_back=100\n",
        "trainPredictPlot = numpy.empty_like(df1)\n",
        "trainPredictPlot[:, :] = np.nan\n",
        "trainPredictPlot[look_back:len(train_predict)+look_back, :] = train_predict\n",
        "# shift test predictions for plotting\n",
        "testPredictPlot = numpy.empty_like(df1)\n",
        "testPredictPlot[:, :] = numpy.nan\n",
        "testPredictPlot[len(train_predict)+(look_back*2)+1:len(df1)-1, :] = test_predict\n",
        "# plot baseline and predictions\n",
        "plt.plot(scaler.inverse_transform(df1))\n",
        "plt.plot(trainPredictPlot)\n",
        "plt.plot(testPredictPlot)\n",
        "plt.show()"
      ],
      "metadata": {
        "colab": {
          "base_uri": "https://localhost:8080/",
          "height": 430
        },
        "id": "ndIIeeog6x1V",
        "outputId": "29373153-b1c9-4052-f644-9e787fcb8b50"
      },
      "execution_count": null,
      "outputs": [
        {
          "output_type": "display_data",
          "data": {
            "text/plain": [
              "<Figure size 640x480 with 1 Axes>"
            ],
            "image/png": "[encoded data removed]"
          },
          "metadata": {}
        }
      ]
    },
    {
      "cell_type": "code",
      "source": [
        "len(test_data)"
      ],
      "metadata": {
        "colab": {
          "base_uri": "https://localhost:8080/"
        },
        "id": "aUxqUGHK61rA",
        "outputId": "738e876a-dcd3-4f4a-9de8-9c5478fc193b"
      },
      "execution_count": null,
      "outputs": [
        {
          "output_type": "execute_result",
          "data": {
            "text/plain": [
              "793"
            ]
          },
          "metadata": {},
          "execution_count": 36
        }
      ]
    },
    {
      "cell_type": "code",
      "source": [
        "x_input=test_data[341:].reshape(1,-1)\n",
        "x_input.shape"
      ],
      "metadata": {
        "colab": {
          "base_uri": "https://localhost:8080/"
        },
        "id": "eYI0UIRE65QG",
        "outputId": "dac3b124-c21c-432d-decd-1fa4f5d7c3c1"
      },
      "execution_count": null,
      "outputs": [
        {
          "output_type": "execute_result",
          "data": {
            "text/plain": [
              "(1, 452)"
            ]
          },
          "metadata": {},
          "execution_count": 37
        }
      ]
    },
    {
      "cell_type": "code",
      "source": [
        "temp_input=list(x_input)\n",
        "temp_input=temp_input[0].tolist()"
      ],
      "metadata": {
        "id": "NhJPc9wa68DP"
      },
      "execution_count": null,
      "outputs": []
    },
    {
      "cell_type": "code",
      "source": [
        "temp_input"
      ],
      "metadata": {
        "colab": {
          "base_uri": "https://localhost:8080/"
        },
        "id": "YFkQhnIU6_NB",
        "outputId": "61dfa503-62d0-438d-aafa-885bfc13fdc8"
      },
      "execution_count": null,
      "outputs": [
        {
          "output_type": "execute_result",
          "data": {
            "text/plain": [
              "[0.754906686235703,\n",
              " 0.7805440596063367,\n",
              " 0.7864121625565881,\n",
              " 0.8055547381506192,\n",
              " 0.813530862025297,\n",
              " 0.8331292235777912,\n",
              " 0.8410483198749843,\n",
              " 0.863039492510197,\n",
              " 0.86674263389082,\n",
              " 0.87175619250163,\n",
              " 0.890898768095661,\n",
              " 0.8841190932284837,\n",
              " 0.8661159390644686,\n",
              " 0.8644067634533033,\n",
              " 0.887936202831793,\n",
              " 0.8686796590150754,\n",
              " 0.8502777464700819,\n",
              " 0.8520438627264493,\n",
              " 0.8403645974711487,\n",
              " 0.8156387960174409,\n",
              " 0.8265204575785021,\n",
              " 0.8421307137275158,\n",
              " 0.8130180484893494,\n",
              " 0.8117647457689297,\n",
              " 0.8250391314804268,\n",
              " 0.8240706189182989,\n",
              " 0.8194559056207502,\n",
              " 0.7930778692010789,\n",
              " 0.7992878768193894,\n",
              " 0.7646489263667482,\n",
              " 0.7633385960688439,\n",
              " 0.8036177130263635,\n",
              " 0.7694914891773872,\n",
              " 0.7712576923660373,\n",
              " 0.7799173647799855,\n",
              " 0.817177062760718,\n",
              " 0.7644780174988599,\n",
              " 0.7673835551852433,\n",
              " 0.7376441951207258,\n",
              " 0.7516023032360586,\n",
              " 0.7059678099319524,\n",
              " 0.6835208513382769,\n",
              " 0.7094431017994851,\n",
              " 0.7004984653626796,\n",
              " 0.721578153013249,\n",
              " 0.6736077892716261,\n",
              " 0.6538385188512437,\n",
              " 0.65520578979435,\n",
              " 0.686654325470033,\n",
              " 0.6709870417435346,\n",
              " 0.6718986136604606,\n",
              " 0.6904714350733423,\n",
              " 0.723856995873281,\n",
              " 0.7192992232209341,\n",
              " 0.7185586471041792,\n",
              " 0.7328016323100868,\n",
              " 0.6995869803780363,\n",
              " 0.7039168165850105,\n",
              " 0.7185586471041792,\n",
              " 0.7142857515424068,\n",
              " 0.6839766372967397,\n",
              " 0.6525851291985412,\n",
              " 0.6226748602661354,\n",
              " 0.6276883319446624,\n",
              " 0.642899829712698,\n",
              " 0.6123059253087388,\n",
              " 0.6208517164322835,\n",
              " 0.645406609018103,\n",
              " 0.6424441306865176,\n",
              " 0.6590799269751437,\n",
              " 0.6783934114370631,\n",
              " 0.6783934114370631,\n",
              " 0.6543512454549085,\n",
              " 0.6645491846121341,\n",
              " 0.6502492587610245,\n",
              " 0.6628400090009685,\n",
              " 0.6778236572559138,\n",
              " 0.6855718446852188,\n",
              " 0.705113265592511,\n",
              " 0.709044256486224,\n",
              " 0.6966813557593703,\n",
              " 0.7023216091965314,\n",
              " 0.7002136752043875,\n",
              " 0.7171912892287902,\n",
              " 0.7268765017823509,\n",
              " 0.709215252286395,\n",
              " 0.7316051833025861,\n",
              " 0.7432274209804022,\n",
              " 0.7563880123337783,\n",
              " 0.7492094921533401,\n",
              " 0.7427146943767375,\n",
              " 0.735023534524917,\n",
              " 0.7645918987892637,\n",
              " 0.7677824004985045,\n",
              " 0.7971798558949628,\n",
              " 0.7914826618125999,\n",
              " 0.7829368706890552,\n",
              " 0.8178037575870694,\n",
              " 0.8159806137532173,\n",
              " 0.8133599531574087,\n",
              " 0.810625237406631,\n",
              " 0.8109101144972055,\n",
              " 0.8355220346605097,\n",
              " 0.8312491390987373,\n",
              " 0.8518160132133592,\n",
              " 0.858025933899387,\n",
              " 0.857114361982461,\n",
              " 0.865774121328692,\n",
              " 0.8634951915363773,\n",
              " 0.8485116302137148,\n",
              " 0.8260077309748373,\n",
              " 0.8240706189182989,\n",
              " 0.8257797945294645,\n",
              " 0.8400227797353721,\n",
              " 0.803503744803677,\n",
              " 0.7907420856958449,\n",
              " 0.7766700093578256,\n",
              " 0.7670417374494667,\n",
              " 0.7712576923660373,\n",
              " 0.7590086729295871,\n",
              " 0.7517162714587449,\n",
              " 0.7598633042013112,\n",
              " 0.7513175130777665,\n",
              " 0.7678962817889081,\n",
              " 0.8024212640188628,\n",
              " 0.7477851936327493,\n",
              " 0.7561600758884055,\n",
              " 0.7394103113770929,\n",
              " 0.7298960076914207,\n",
              " 0.7514313943681703,\n",
              " 0.7652185936156148,\n",
              " 0.7471015581611962,\n",
              " 0.7415183323015195,\n",
              " 0.7283577409481434,\n",
              " 0.7302948530046818,\n",
              " 0.7359350195095602,\n",
              " 0.724996417303297,\n",
              " 0.6830650653798138,\n",
              " 0.6586810816618827,\n",
              " 0.6828941565119255,\n",
              " 0.7036889670719204,\n",
              " 0.705398055750803,\n",
              " 0.6998717705363282,\n",
              " 0.6694487750002576,\n",
              " 0.6713288594793112,\n",
              " 0.6631248860915433,\n",
              " 0.6594786853561223,\n",
              " 0.6859706899984799,\n",
              " 0.6597066218014951,\n",
              " 0.6826663069988355,\n",
              " 0.690300526205454,\n",
              " 0.6909272210318054,\n",
              " 0.6882495328585121,\n",
              " 0.710354673716411,\n",
              " 0.7227745150884668,\n",
              " 0.7392394025092046,\n",
              " 0.7222048478396002,\n",
              " 0.6962825973783917,\n",
              " 0.7586099145486087,\n",
              " 0.7449365965915677,\n",
              " 0.7296111306008459,\n",
              " 0.6975929276762962,\n",
              " 0.6625552188426767,\n",
              " 0.6597066218014951,\n",
              " 0.6627830683557667,\n",
              " 0.6660874513554111,\n",
              " 0.6397094149357399,\n",
              " 0.7080757439240963,\n",
              " 0.7241988136090576,\n",
              " 0.716108808443976,\n",
              " 0.7261358387333132,\n",
              " 0.7190143461303593,\n",
              " 0.730009975914107,\n",
              " 0.7332573313362669,\n",
              " 0.7145705417006989,\n",
              " 0.7269334424275526,\n",
              " 0.7320040286158471,\n",
              " 0.7151402958818482,\n",
              " 0.6929782143787473,\n",
              " 0.6756017550410836,\n",
              " 0.7146845099233852,\n",
              " 0.7162797173118642,\n",
              " 0.7134311202706827,\n",
              " 0.70670847298099,\n",
              " 0.685514904040017,\n",
              " 0.6742914247431793,\n",
              " 0.6840335779419418,\n",
              " 0.6812420084782447,\n",
              " 0.6945164811220246,\n",
              " 0.7000997069817012,\n",
              " 0.6872240796511824,\n",
              " 0.648995869108322,\n",
              " 0.6376584215887979,\n",
              " 0.6254664297298322,\n",
              " 0.6250676713488539,\n",
              " 0.6430137979353843,\n",
              " 0.6246688260355928,\n",
              " 0.6225608920434489,\n",
              " 0.6121350164408506,\n",
              " 0.5894032242227416,\n",
              " 0.6097422053581321,\n",
              " 0.6115652622597012,\n",
              " 0.583876939008267,\n",
              " 0.5912263245904523,\n",
              " 0.5835920619176922,\n",
              " 0.6097991460033338,\n",
              " 0.6128186519124037,\n",
              " 0.6161230349120481,\n",
              " 0.6318473462160312,\n",
              " 0.6313915602575682,\n",
              " 0.6390827201093887,\n",
              " 0.645805454331364,\n",
              " 0.6416465269922782,\n",
              " 0.6419883447280548,\n",
              " 0.656800997182829,\n",
              " 0.675259937305307,\n",
              " 0.6833499424703886,\n",
              " 0.6795328328670793,\n",
              " 0.6914969752129547,\n",
              " 0.7027203675775098,\n",
              " 0.6860276306436819,\n",
              " 0.6933769727597257,\n",
              " 0.6998717705363282,\n",
              " 0.7305797300952566,\n",
              " 0.7515453625908568,\n",
              " 0.7357641106416719,\n",
              " 0.752399906930298,\n",
              " 0.7368465914264861,\n",
              " 0.7308645202535484,\n",
              " 0.7316621239477878,\n",
              " 0.7478422212102338,\n",
              " 0.7441389928973281,\n",
              " 0.756274044111092,\n",
              " 0.7470446175159944,\n",
              " 0.7404358515167053,\n",
              " 0.7172482298739922,\n",
              " 0.7196980685341952,\n",
              " 0.7224896379978922,\n",
              " 0.7071642589394531,\n",
              " 0.714057815097034,\n",
              " 0.7111522774106507,\n",
              " 0.6991881350647751,\n",
              " 0.7026064862871062,\n",
              " 0.7317760921704743,\n",
              " 0.7477282529875473,\n",
              " 0.735023534524917,\n",
              " 0.7422589084182745,\n",
              " 0.7292693128650694,\n",
              " 0.7173621980966784,\n",
              " 0.7285856773935162,\n",
              " 0.7406637010297954,\n",
              " 0.7429426308221103,\n",
              " 0.7592366093749598,\n",
              " 0.7543939596320381,\n",
              " 0.7680671906567964,\n",
              " 0.7787779433499693,\n",
              " 0.7705170293169996,\n",
              " 0.7767838906482292,\n",
              " 0.7843042285644442,\n",
              " 0.7730807492676064,\n",
              " 0.7694914891773872,\n",
              " 0.787266793828312,\n",
              " 0.7963253115555216,\n",
              " 0.8107961462745192,\n",
              " 0.8180316071001594,\n",
              " 0.8149551605458878,\n",
              " 0.8043013484979167,\n",
              " 0.809428875331413,\n",
              " 0.7944452270764677,\n",
              " 0.7874377026962003,\n",
              " 0.7834496842250027,\n",
              " 0.8145563152326267,\n",
              " 0.8125623494631693,\n",
              " 0.8126762307535729,\n",
              " 0.8197407827113248,\n",
              " 0.8263495487106138,\n",
              " 0.8207662359186545,\n",
              " 0.8114798686783551,\n",
              " 0.8132459849347222,\n",
              " 0.8043583760754012,\n",
              " 0.8043013484979167,\n",
              " 0.8307933531402745,\n",
              " 0.838028727033632,\n",
              " 0.8375160004299671,\n",
              " 0.8315339292570294,\n",
              " 0.8253240085710014,\n",
              " 0.815866645530531,\n",
              " 0.8601908954690154,\n",
              " 0.8597920501557543,\n",
              " 0.8499359287343056,\n",
              " 0.8601338678915309,\n",
              " 0.8612163486763451,\n",
              " 0.8544937013866525,\n",
              " 0.8516451043454709,\n",
              " 0.8516451043454709,\n",
              " 0.8551773368582056,\n",
              " 0.8686227183698736,\n",
              " 0.869249413196225,\n",
              " 0.8637800686269519,\n",
              " 0.8487394797268049,\n",
              " 0.8503346871152839,\n",
              " 0.856886512469371,\n",
              " 0.8707875930072193,\n",
              " 0.8814414050551904,\n",
              " 0.8811565279646159,\n",
              " 0.8973365382947789,\n",
              " 0.9022361286829024,\n",
              " 0.8944310006083955,\n",
              " 0.8923230666162518,\n",
              " 0.8844039703190585,\n",
              " 0.9000712540455569,\n",
              " 0.9022931562603871,\n",
              " 0.9184161390130656,\n",
              " 0.9156815101945706,\n",
              " 0.9193277109299915,\n",
              " 0.9310639168304942,\n",
              " 0.9248539961444664,\n",
              " 0.9253667227481313,\n",
              " 0.9193847385074763,\n",
              " 0.9367041702676553,\n",
              " 0.9348810264338034,\n",
              " 0.9268480488462065,\n",
              " 0.942743182085795,\n",
              " 0.9495228569529721,\n",
              " 0.9514598820772278,\n",
              " 0.9764136199763083,\n",
              " 0.967810888207562,\n",
              " 0.9613730310761612,\n",
              " 0.9641076598946563,\n",
              " 0.9576698027632555,\n",
              " 0.9458766562175511,\n",
              " 0.9428571503084815,\n",
              " 0.9524854222168402,\n",
              " 0.9568721990690161,\n",
              " 0.9577268303407402,\n",
              " 0.9765275881989948,\n",
              " 0.9750462621009195,\n",
              " 0.982851477107709,\n",
              " 0.9716279978108713,\n",
              " 0.9648483229436939,\n",
              " 0.9694630362412429,\n",
              " 0.9744195672745681,\n",
              " 0.9794331258853781,\n",
              " 0.9721407244145361,\n",
              " 0.9870104044467949,\n",
              " 0.9905426369595296,\n",
              " 0.9857570147940924,\n",
              " 0.9684945236791151,\n",
              " 0.9604614591592353,\n",
              " 0.9081612592106383,\n",
              " 0.8902720732693097,\n",
              " 0.895684390261098,\n",
              " 0.8865119043112022,\n",
              " 0.8852585146584997,\n",
              " 0.8842329745188875,\n",
              " 0.8937473651368426,\n",
              " 0.8822959493946319,\n",
              " 0.8772824777161046,\n",
              " 0.8626406471969359,\n",
              " 0.8654323035929155,\n",
              " 0.873123463444736,\n",
              " 0.8810425597419294,\n",
              " 0.9032046412450303,\n",
              " 0.8761999969312904,\n",
              " 0.8889047153939209,\n",
              " 0.8979062924759285,\n",
              " 0.9202962234921195,\n",
              " 0.9404073116482783,\n",
              " 0.9416607013009808,\n",
              " 0.9507193059604728,\n",
              " 0.9520865769035791,\n",
              " 0.9134026673345383,\n",
              " 0.8829226442209832,\n",
              " 0.8864548767337177,\n",
              " 0.893177610955693,\n",
              " 0.8757442109728275,\n",
              " 0.8638370962044366,\n",
              " 0.8725537961958694,\n",
              " 0.8683947819245008,\n",
              " 0.8852585146584997,\n",
              " 0.8915254629220122,\n",
              " 0.8711294976752786,\n",
              " 0.8622418018836748,\n",
              " 0.8671413922717983,\n",
              " 0.874490821320125,\n",
              " 0.8510184095191198,\n",
              " 0.8423016225954041,\n",
              " 0.8437829486934796,\n",
              " 0.8467455139573474,\n",
              " 0.8612163486763451,\n",
              " 0.8535251018922418,\n",
              " 0.8607036220726803,\n",
              " 0.8678251146756342,\n",
              " 0.8825238858400046,\n",
              " 0.8910696769635493,\n",
              " 0.8876513257412184,\n",
              " 0.895684390261098,\n",
              " 0.9008688577397963,\n",
              " 0.8902720732693097,\n",
              " 0.889531410220272,\n",
              " 0.8805867737834665,\n",
              " 0.873123463444736,\n",
              " 0.8709585888073903,\n",
              " 0.8562598176430198,\n",
              " 0.8569434531145728,\n",
              " 0.8594502324199778,\n",
              " 0.8461188191309963,\n",
              " 0.8221335937940435,\n",
              " 0.8297108723554603,\n",
              " 0.8415040189011647,\n",
              " 0.8442387346519424,\n",
              " 0.8624697383290476,\n",
              " 0.8829796717984677,\n",
              " 0.8777381767422849,\n",
              " 0.8924369479066554,\n",
              " 0.9071927466485106,\n",
              " 0.9132886991118521,\n",
              " 0.910554070293357,\n",
              " 0.9332858190453244,\n",
              " 0.9241703606729132,\n",
              " 0.9392109495730603,\n",
              " 0.9424583049952202,\n",
              " 0.9521436044810636,\n",
              " 0.9520296362583771,\n",
              " 0.9620566665477144,\n",
              " 0.9574419532501655,\n",
              " 0.9612590628534747,\n",
              " 0.9536248436468562,\n",
              " 0.9525993035072438,\n",
              " 0.9560745953747767,\n",
              " 0.9502064924245253,\n",
              " 0.9535108754241699,\n",
              " 0.9608603044724964,\n",
              " 0.9505483101603018,\n",
              " 0.9732801458445521,\n",
              " 0.9670132845133224,\n",
              " 0.9781227955874738,\n",
              " 0.9863267689752417,\n",
              " 0.9719127879691631,\n",
              " 0.9806295748928788,\n",
              " 0.9991454556605586,\n",
              " 1.0,\n",
              " 0.9969235534457284,\n",
              " 0.9873522221825715,\n",
              " 0.9933342933555092,\n",
              " 0.981313210364432,\n",
              " 0.9804585790927078,\n",
              " 0.9743056859841646,\n",
              " 0.9711722118524082,\n",
              " 0.9717418791012749,\n",
              " 0.9741917177614781,\n",
              " 0.9682096465885404]"
            ]
          },
          "metadata": {},
          "execution_count": 39
        }
      ]
    },
    {
      "cell_type": "code",
      "source": [
        "# Demonstrate prediction for the next 30 days\n",
        "from numpy import array\n",
        "\n",
        "lst_output = []\n",
        "n_steps = 100\n",
        "i = 0\n",
        "while i < 30:\n",
        "\n",
        "    if len(temp_input) > 100:\n",
        "        x_input = np.array(temp_input[-100:])  # Select the last 100 elements\n",
        "        print(\"{} day input {}\".format(i, x_input))\n",
        "        x_input = x_input.reshape((1, n_steps, 1))\n",
        "\n",
        "        yhat = model.predict(x_input, verbose=0)\n",
        "        print(\"{} day output {}\".format(i, yhat))\n",
        "\n",
        "        temp_input.extend(yhat[0].tolist())\n",
        "        temp_input = temp_input[1:]  # Remove the oldest value\n",
        "\n",
        "        lst_output.extend(yhat.tolist())\n",
        "        i += 1\n",
        "    else:\n",
        "        x_input = x_input.reshape((1, n_steps, 1))\n",
        "        yhat = model.predict(x_input, verbose=0)\n",
        "        print(yhat[0])\n",
        "\n",
        "        temp_input.extend(yhat[0].tolist())\n",
        "        print(len(temp_input))\n",
        "\n",
        "        lst_output.extend(yhat.tolist())\n",
        "        i += 1\n",
        "\n",
        "print(lst_output)\n"
      ],
      "metadata": {
        "colab": {
          "base_uri": "https://localhost:8080/"
        },
        "id": "YEw_8Twj7Dz3",
        "outputId": "e75c4752-3d0a-441f-e44a-b3a354240669"
      },
      "execution_count": null,
      "outputs": [
        {
          "output_type": "stream",
          "name": "stdout",
          "text": [
            "0 day input [0.8865119  0.88525851 0.88423297 0.89374737 0.88229595 0.87728248\n",
            " 0.86264065 0.8654323  0.87312346 0.88104256 0.90320464 0.8762\n",
            " 0.88890472 0.89790629 0.92029622 0.94040731 0.9416607  0.95071931\n",
            " 0.95208658 0.91340267 0.88292264 0.88645488 0.89317761 0.87574421\n",
            " 0.8638371  0.8725538  0.86839478 0.88525851 0.89152546 0.8711295\n",
            " 0.8622418  0.86714139 0.87449082 0.85101841 0.84230162 0.84378295\n",
            " 0.84674551 0.86121635 0.8535251  0.86070362 0.86782511 0.88252389\n",
            " 0.89106968 0.88765133 0.89568439 0.90086886 0.89027207 0.88953141\n",
            " 0.88058677 0.87312346 0.87095859 0.85625982 0.85694345 0.85945023\n",
            " 0.84611882 0.82213359 0.82971087 0.84150402 0.84423873 0.86246974\n",
            " 0.88297967 0.87773818 0.89243695 0.90719275 0.9132887  0.91055407\n",
            " 0.93328582 0.92417036 0.93921095 0.9424583  0.9521436  0.95202964\n",
            " 0.96205667 0.95744195 0.96125906 0.95362484 0.9525993  0.9560746\n",
            " 0.95020649 0.95351088 0.9608603  0.95054831 0.97328015 0.96701328\n",
            " 0.9781228  0.98632677 0.97191279 0.98062957 0.99914546 1.\n",
            " 0.99692355 0.98735222 0.99333429 0.98131321 0.98045858 0.97430569\n",
            " 0.97117221 0.97174188 0.97419172 0.96820965]\n",
            "0 day output [[0.8094179]]\n",
            "1 day input [0.88525851 0.88423297 0.89374737 0.88229595 0.87728248 0.86264065\n",
            " 0.8654323  0.87312346 0.88104256 0.90320464 0.8762     0.88890472\n",
            " 0.89790629 0.92029622 0.94040731 0.9416607  0.95071931 0.95208658\n",
            " 0.91340267 0.88292264 0.88645488 0.89317761 0.87574421 0.8638371\n",
            " 0.8725538  0.86839478 0.88525851 0.89152546 0.8711295  0.8622418\n",
            " 0.86714139 0.87449082 0.85101841 0.84230162 0.84378295 0.84674551\n",
            " 0.86121635 0.8535251  0.86070362 0.86782511 0.88252389 0.89106968\n",
            " 0.88765133 0.89568439 0.90086886 0.89027207 0.88953141 0.88058677\n",
            " 0.87312346 0.87095859 0.85625982 0.85694345 0.85945023 0.84611882\n",
            " 0.82213359 0.82971087 0.84150402 0.84423873 0.86246974 0.88297967\n",
            " 0.87773818 0.89243695 0.90719275 0.9132887  0.91055407 0.93328582\n",
            " 0.92417036 0.93921095 0.9424583  0.9521436  0.95202964 0.96205667\n",
            " 0.95744195 0.96125906 0.95362484 0.9525993  0.9560746  0.95020649\n",
            " 0.95351088 0.9608603  0.95054831 0.97328015 0.96701328 0.9781228\n",
            " 0.98632677 0.97191279 0.98062957 0.99914546 1.         0.99692355\n",
            " 0.98735222 0.99333429 0.98131321 0.98045858 0.97430569 0.97117221\n",
            " 0.97174188 0.97419172 0.96820965 0.8094179 ]\n",
            "1 day output [[0.79335505]]\n",
            "2 day input [0.88423297 0.89374737 0.88229595 0.87728248 0.86264065 0.8654323\n",
            " 0.87312346 0.88104256 0.90320464 0.8762     0.88890472 0.89790629\n",
            " 0.92029622 0.94040731 0.9416607  0.95071931 0.95208658 0.91340267\n",
            " 0.88292264 0.88645488 0.89317761 0.87574421 0.8638371  0.8725538\n",
            " 0.86839478 0.88525851 0.89152546 0.8711295  0.8622418  0.86714139\n",
            " 0.87449082 0.85101841 0.84230162 0.84378295 0.84674551 0.86121635\n",
            " 0.8535251  0.86070362 0.86782511 0.88252389 0.89106968 0.88765133\n",
            " 0.89568439 0.90086886 0.89027207 0.88953141 0.88058677 0.87312346\n",
            " 0.87095859 0.85625982 0.85694345 0.85945023 0.84611882 0.82213359\n",
            " 0.82971087 0.84150402 0.84423873 0.86246974 0.88297967 0.87773818\n",
            " 0.89243695 0.90719275 0.9132887  0.91055407 0.93328582 0.92417036\n",
            " 0.93921095 0.9424583  0.9521436  0.95202964 0.96205667 0.95744195\n",
            " 0.96125906 0.95362484 0.9525993  0.9560746  0.95020649 0.95351088\n",
            " 0.9608603  0.95054831 0.97328015 0.96701328 0.9781228  0.98632677\n",
            " 0.97191279 0.98062957 0.99914546 1.         0.99692355 0.98735222\n",
            " 0.99333429 0.98131321 0.98045858 0.97430569 0.97117221 0.97174188\n",
            " 0.97419172 0.96820965 0.8094179  0.79335505]\n",
            "2 day output [[0.7651373]]\n",
            "3 day input [0.89374737 0.88229595 0.87728248 0.86264065 0.8654323  0.87312346\n",
            " 0.88104256 0.90320464 0.8762     0.88890472 0.89790629 0.92029622\n",
            " 0.94040731 0.9416607  0.95071931 0.95208658 0.91340267 0.88292264\n",
            " 0.88645488 0.89317761 0.87574421 0.8638371  0.8725538  0.86839478\n",
            " 0.88525851 0.89152546 0.8711295  0.8622418  0.86714139 0.87449082\n",
            " 0.85101841 0.84230162 0.84378295 0.84674551 0.86121635 0.8535251\n",
            " 0.86070362 0.86782511 0.88252389 0.89106968 0.88765133 0.89568439\n",
            " 0.90086886 0.89027207 0.88953141 0.88058677 0.87312346 0.87095859\n",
            " 0.85625982 0.85694345 0.85945023 0.84611882 0.82213359 0.82971087\n",
            " 0.84150402 0.84423873 0.86246974 0.88297967 0.87773818 0.89243695\n",
            " 0.90719275 0.9132887  0.91055407 0.93328582 0.92417036 0.93921095\n",
            " 0.9424583  0.9521436  0.95202964 0.96205667 0.95744195 0.96125906\n",
            " 0.95362484 0.9525993  0.9560746  0.95020649 0.95351088 0.9608603\n",
            " 0.95054831 0.97328015 0.96701328 0.9781228  0.98632677 0.97191279\n",
            " 0.98062957 0.99914546 1.         0.99692355 0.98735222 0.99333429\n",
            " 0.98131321 0.98045858 0.97430569 0.97117221 0.97174188 0.97419172\n",
            " 0.96820965 0.8094179  0.79335505 0.76513731]\n",
            "3 day output [[0.7295253]]\n",
            "4 day input [0.88229595 0.87728248 0.86264065 0.8654323  0.87312346 0.88104256\n",
            " 0.90320464 0.8762     0.88890472 0.89790629 0.92029622 0.94040731\n",
            " 0.9416607  0.95071931 0.95208658 0.91340267 0.88292264 0.88645488\n",
            " 0.89317761 0.87574421 0.8638371  0.8725538  0.86839478 0.88525851\n",
            " 0.89152546 0.8711295  0.8622418  0.86714139 0.87449082 0.85101841\n",
            " 0.84230162 0.84378295 0.84674551 0.86121635 0.8535251  0.86070362\n",
            " 0.86782511 0.88252389 0.89106968 0.88765133 0.89568439 0.90086886\n",
            " 0.89027207 0.88953141 0.88058677 0.87312346 0.87095859 0.85625982\n",
            " 0.85694345 0.85945023 0.84611882 0.82213359 0.82971087 0.84150402\n",
            " 0.84423873 0.86246974 0.88297967 0.87773818 0.89243695 0.90719275\n",
            " 0.9132887  0.91055407 0.93328582 0.92417036 0.93921095 0.9424583\n",
            " 0.9521436  0.95202964 0.96205667 0.95744195 0.96125906 0.95362484\n",
            " 0.9525993  0.9560746  0.95020649 0.95351088 0.9608603  0.95054831\n",
            " 0.97328015 0.96701328 0.9781228  0.98632677 0.97191279 0.98062957\n",
            " 0.99914546 1.         0.99692355 0.98735222 0.99333429 0.98131321\n",
            " 0.98045858 0.97430569 0.97117221 0.97174188 0.97419172 0.96820965\n",
            " 0.8094179  0.79335505 0.76513731 0.72952533]\n",
            "4 day output [[0.6914829]]\n",
            "5 day input [0.87728248 0.86264065 0.8654323  0.87312346 0.88104256 0.90320464\n",
            " 0.8762     0.88890472 0.89790629 0.92029622 0.94040731 0.9416607\n",
            " 0.95071931 0.95208658 0.91340267 0.88292264 0.88645488 0.89317761\n",
            " 0.87574421 0.8638371  0.8725538  0.86839478 0.88525851 0.89152546\n",
            " 0.8711295  0.8622418  0.86714139 0.87449082 0.85101841 0.84230162\n",
            " 0.84378295 0.84674551 0.86121635 0.8535251  0.86070362 0.86782511\n",
            " 0.88252389 0.89106968 0.88765133 0.89568439 0.90086886 0.89027207\n",
            " 0.88953141 0.88058677 0.87312346 0.87095859 0.85625982 0.85694345\n",
            " 0.85945023 0.84611882 0.82213359 0.82971087 0.84150402 0.84423873\n",
            " 0.86246974 0.88297967 0.87773818 0.89243695 0.90719275 0.9132887\n",
            " 0.91055407 0.93328582 0.92417036 0.93921095 0.9424583  0.9521436\n",
            " 0.95202964 0.96205667 0.95744195 0.96125906 0.95362484 0.9525993\n",
            " 0.9560746  0.95020649 0.95351088 0.9608603  0.95054831 0.97328015\n",
            " 0.96701328 0.9781228  0.98632677 0.97191279 0.98062957 0.99914546\n",
            " 1.         0.99692355 0.98735222 0.99333429 0.98131321 0.98045858\n",
            " 0.97430569 0.97117221 0.97174188 0.97419172 0.96820965 0.8094179\n",
            " 0.79335505 0.76513731 0.72952533 0.6914829 ]\n",
            "5 day output [[0.6549119]]\n",
            "6 day input [0.86264065 0.8654323  0.87312346 0.88104256 0.90320464 0.8762\n",
            " 0.88890472 0.89790629 0.92029622 0.94040731 0.9416607  0.95071931\n",
            " 0.95208658 0.91340267 0.88292264 0.88645488 0.89317761 0.87574421\n",
            " 0.8638371  0.8725538  0.86839478 0.88525851 0.89152546 0.8711295\n",
            " 0.8622418  0.86714139 0.87449082 0.85101841 0.84230162 0.84378295\n",
            " 0.84674551 0.86121635 0.8535251  0.86070362 0.86782511 0.88252389\n",
            " 0.89106968 0.88765133 0.89568439 0.90086886 0.89027207 0.88953141\n",
            " 0.88058677 0.87312346 0.87095859 0.85625982 0.85694345 0.85945023\n",
            " 0.84611882 0.82213359 0.82971087 0.84150402 0.84423873 0.86246974\n",
            " 0.88297967 0.87773818 0.89243695 0.90719275 0.9132887  0.91055407\n",
            " 0.93328582 0.92417036 0.93921095 0.9424583  0.9521436  0.95202964\n",
            " 0.96205667 0.95744195 0.96125906 0.95362484 0.9525993  0.9560746\n",
            " 0.95020649 0.95351088 0.9608603  0.95054831 0.97328015 0.96701328\n",
            " 0.9781228  0.98632677 0.97191279 0.98062957 0.99914546 1.\n",
            " 0.99692355 0.98735222 0.99333429 0.98131321 0.98045858 0.97430569\n",
            " 0.97117221 0.97174188 0.97419172 0.96820965 0.8094179  0.79335505\n",
            " 0.76513731 0.72952533 0.6914829  0.65491188]\n",
            "6 day output [[0.62235665]]\n",
            "7 day input [0.8654323  0.87312346 0.88104256 0.90320464 0.8762     0.88890472\n",
            " 0.89790629 0.92029622 0.94040731 0.9416607  0.95071931 0.95208658\n",
            " 0.91340267 0.88292264 0.88645488 0.89317761 0.87574421 0.8638371\n",
            " 0.8725538  0.86839478 0.88525851 0.89152546 0.8711295  0.8622418\n",
            " 0.86714139 0.87449082 0.85101841 0.84230162 0.84378295 0.84674551\n",
            " 0.86121635 0.8535251  0.86070362 0.86782511 0.88252389 0.89106968\n",
            " 0.88765133 0.89568439 0.90086886 0.89027207 0.88953141 0.88058677\n",
            " 0.87312346 0.87095859 0.85625982 0.85694345 0.85945023 0.84611882\n",
            " 0.82213359 0.82971087 0.84150402 0.84423873 0.86246974 0.88297967\n",
            " 0.87773818 0.89243695 0.90719275 0.9132887  0.91055407 0.93328582\n",
            " 0.92417036 0.93921095 0.9424583  0.9521436  0.95202964 0.96205667\n",
            " 0.95744195 0.96125906 0.95362484 0.9525993  0.9560746  0.95020649\n",
            " 0.95351088 0.9608603  0.95054831 0.97328015 0.96701328 0.9781228\n",
            " 0.98632677 0.97191279 0.98062957 0.99914546 1.         0.99692355\n",
            " 0.98735222 0.99333429 0.98131321 0.98045858 0.97430569 0.97117221\n",
            " 0.97174188 0.97419172 0.96820965 0.8094179  0.79335505 0.76513731\n",
            " 0.72952533 0.6914829  0.65491188 0.62235665]\n",
            "7 day output [[0.59513104]]\n",
            "8 day input [0.87312346 0.88104256 0.90320464 0.8762     0.88890472 0.89790629\n",
            " 0.92029622 0.94040731 0.9416607  0.95071931 0.95208658 0.91340267\n",
            " 0.88292264 0.88645488 0.89317761 0.87574421 0.8638371  0.8725538\n",
            " 0.86839478 0.88525851 0.89152546 0.8711295  0.8622418  0.86714139\n",
            " 0.87449082 0.85101841 0.84230162 0.84378295 0.84674551 0.86121635\n",
            " 0.8535251  0.86070362 0.86782511 0.88252389 0.89106968 0.88765133\n",
            " 0.89568439 0.90086886 0.89027207 0.88953141 0.88058677 0.87312346\n",
            " 0.87095859 0.85625982 0.85694345 0.85945023 0.84611882 0.82213359\n",
            " 0.82971087 0.84150402 0.84423873 0.86246974 0.88297967 0.87773818\n",
            " 0.89243695 0.90719275 0.9132887  0.91055407 0.93328582 0.92417036\n",
            " 0.93921095 0.9424583  0.9521436  0.95202964 0.96205667 0.95744195\n",
            " 0.96125906 0.95362484 0.9525993  0.9560746  0.95020649 0.95351088\n",
            " 0.9608603  0.95054831 0.97328015 0.96701328 0.9781228  0.98632677\n",
            " 0.97191279 0.98062957 0.99914546 1.         0.99692355 0.98735222\n",
            " 0.99333429 0.98131321 0.98045858 0.97430569 0.97117221 0.97174188\n",
            " 0.97419172 0.96820965 0.8094179  0.79335505 0.76513731 0.72952533\n",
            " 0.6914829  0.65491188 0.62235665 0.59513104]\n",
            "8 day output [[0.57360536]]\n",
            "9 day input [0.88104256 0.90320464 0.8762     0.88890472 0.89790629 0.92029622\n",
            " 0.94040731 0.9416607  0.95071931 0.95208658 0.91340267 0.88292264\n",
            " 0.88645488 0.89317761 0.87574421 0.8638371  0.8725538  0.86839478\n",
            " 0.88525851 0.89152546 0.8711295  0.8622418  0.86714139 0.87449082\n",
            " 0.85101841 0.84230162 0.84378295 0.84674551 0.86121635 0.8535251\n",
            " 0.86070362 0.86782511 0.88252389 0.89106968 0.88765133 0.89568439\n",
            " 0.90086886 0.89027207 0.88953141 0.88058677 0.87312346 0.87095859\n",
            " 0.85625982 0.85694345 0.85945023 0.84611882 0.82213359 0.82971087\n",
            " 0.84150402 0.84423873 0.86246974 0.88297967 0.87773818 0.89243695\n",
            " 0.90719275 0.9132887  0.91055407 0.93328582 0.92417036 0.93921095\n",
            " 0.9424583  0.9521436  0.95202964 0.96205667 0.95744195 0.96125906\n",
            " 0.95362484 0.9525993  0.9560746  0.95020649 0.95351088 0.9608603\n",
            " 0.95054831 0.97328015 0.96701328 0.9781228  0.98632677 0.97191279\n",
            " 0.98062957 0.99914546 1.         0.99692355 0.98735222 0.99333429\n",
            " 0.98131321 0.98045858 0.97430569 0.97117221 0.97174188 0.97419172\n",
            " 0.96820965 0.8094179  0.79335505 0.76513731 0.72952533 0.6914829\n",
            " 0.65491188 0.62235665 0.59513104 0.57360536]\n",
            "9 day output [[0.5575298]]\n",
            "10 day input [0.90320464 0.8762     0.88890472 0.89790629 0.92029622 0.94040731\n",
            " 0.9416607  0.95071931 0.95208658 0.91340267 0.88292264 0.88645488\n",
            " 0.89317761 0.87574421 0.8638371  0.8725538  0.86839478 0.88525851\n",
            " 0.89152546 0.8711295  0.8622418  0.86714139 0.87449082 0.85101841\n",
            " 0.84230162 0.84378295 0.84674551 0.86121635 0.8535251  0.86070362\n",
            " 0.86782511 0.88252389 0.89106968 0.88765133 0.89568439 0.90086886\n",
            " 0.89027207 0.88953141 0.88058677 0.87312346 0.87095859 0.85625982\n",
            " 0.85694345 0.85945023 0.84611882 0.82213359 0.82971087 0.84150402\n",
            " 0.84423873 0.86246974 0.88297967 0.87773818 0.89243695 0.90719275\n",
            " 0.9132887  0.91055407 0.93328582 0.92417036 0.93921095 0.9424583\n",
            " 0.9521436  0.95202964 0.96205667 0.95744195 0.96125906 0.95362484\n",
            " 0.9525993  0.9560746  0.95020649 0.95351088 0.9608603  0.95054831\n",
            " 0.97328015 0.96701328 0.9781228  0.98632677 0.97191279 0.98062957\n",
            " 0.99914546 1.         0.99692355 0.98735222 0.99333429 0.98131321\n",
            " 0.98045858 0.97430569 0.97117221 0.97174188 0.97419172 0.96820965\n",
            " 0.8094179  0.79335505 0.76513731 0.72952533 0.6914829  0.65491188\n",
            " 0.62235665 0.59513104 0.57360536 0.55752981]\n",
            "10 day output [[0.5463264]]\n",
            "11 day input [0.8762     0.88890472 0.89790629 0.92029622 0.94040731 0.9416607\n",
            " 0.95071931 0.95208658 0.91340267 0.88292264 0.88645488 0.89317761\n",
            " 0.87574421 0.8638371  0.8725538  0.86839478 0.88525851 0.89152546\n",
            " 0.8711295  0.8622418  0.86714139 0.87449082 0.85101841 0.84230162\n",
            " 0.84378295 0.84674551 0.86121635 0.8535251  0.86070362 0.86782511\n",
            " 0.88252389 0.89106968 0.88765133 0.89568439 0.90086886 0.89027207\n",
            " 0.88953141 0.88058677 0.87312346 0.87095859 0.85625982 0.85694345\n",
            " 0.85945023 0.84611882 0.82213359 0.82971087 0.84150402 0.84423873\n",
            " 0.86246974 0.88297967 0.87773818 0.89243695 0.90719275 0.9132887\n",
            " 0.91055407 0.93328582 0.92417036 0.93921095 0.9424583  0.9521436\n",
            " 0.95202964 0.96205667 0.95744195 0.96125906 0.95362484 0.9525993\n",
            " 0.9560746  0.95020649 0.95351088 0.9608603  0.95054831 0.97328015\n",
            " 0.96701328 0.9781228  0.98632677 0.97191279 0.98062957 0.99914546\n",
            " 1.         0.99692355 0.98735222 0.99333429 0.98131321 0.98045858\n",
            " 0.97430569 0.97117221 0.97174188 0.97419172 0.96820965 0.8094179\n",
            " 0.79335505 0.76513731 0.72952533 0.6914829  0.65491188 0.62235665\n",
            " 0.59513104 0.57360536 0.55752981 0.5463264 ]\n",
            "11 day output [[0.5393048]]\n",
            "12 day input [0.88890472 0.89790629 0.92029622 0.94040731 0.9416607  0.95071931\n",
            " 0.95208658 0.91340267 0.88292264 0.88645488 0.89317761 0.87574421\n",
            " 0.8638371  0.8725538  0.86839478 0.88525851 0.89152546 0.8711295\n",
            " 0.8622418  0.86714139 0.87449082 0.85101841 0.84230162 0.84378295\n",
            " 0.84674551 0.86121635 0.8535251  0.86070362 0.86782511 0.88252389\n",
            " 0.89106968 0.88765133 0.89568439 0.90086886 0.89027207 0.88953141\n",
            " 0.88058677 0.87312346 0.87095859 0.85625982 0.85694345 0.85945023\n",
            " 0.84611882 0.82213359 0.82971087 0.84150402 0.84423873 0.86246974\n",
            " 0.88297967 0.87773818 0.89243695 0.90719275 0.9132887  0.91055407\n",
            " 0.93328582 0.92417036 0.93921095 0.9424583  0.9521436  0.95202964\n",
            " 0.96205667 0.95744195 0.96125906 0.95362484 0.9525993  0.9560746\n",
            " 0.95020649 0.95351088 0.9608603  0.95054831 0.97328015 0.96701328\n",
            " 0.9781228  0.98632677 0.97191279 0.98062957 0.99914546 1.\n",
            " 0.99692355 0.98735222 0.99333429 0.98131321 0.98045858 0.97430569\n",
            " 0.97117221 0.97174188 0.97419172 0.96820965 0.8094179  0.79335505\n",
            " 0.76513731 0.72952533 0.6914829  0.65491188 0.62235665 0.59513104\n",
            " 0.57360536 0.55752981 0.5463264  0.53930479]\n",
            "12 day output [[0.53579384]]\n",
            "13 day input [0.89790629 0.92029622 0.94040731 0.9416607  0.95071931 0.95208658\n",
            " 0.91340267 0.88292264 0.88645488 0.89317761 0.87574421 0.8638371\n",
            " 0.8725538  0.86839478 0.88525851 0.89152546 0.8711295  0.8622418\n",
            " 0.86714139 0.87449082 0.85101841 0.84230162 0.84378295 0.84674551\n",
            " 0.86121635 0.8535251  0.86070362 0.86782511 0.88252389 0.89106968\n",
            " 0.88765133 0.89568439 0.90086886 0.89027207 0.88953141 0.88058677\n",
            " 0.87312346 0.87095859 0.85625982 0.85694345 0.85945023 0.84611882\n",
            " 0.82213359 0.82971087 0.84150402 0.84423873 0.86246974 0.88297967\n",
            " 0.87773818 0.89243695 0.90719275 0.9132887  0.91055407 0.93328582\n",
            " 0.92417036 0.93921095 0.9424583  0.9521436  0.95202964 0.96205667\n",
            " 0.95744195 0.96125906 0.95362484 0.9525993  0.9560746  0.95020649\n",
            " 0.95351088 0.9608603  0.95054831 0.97328015 0.96701328 0.9781228\n",
            " 0.98632677 0.97191279 0.98062957 0.99914546 1.         0.99692355\n",
            " 0.98735222 0.99333429 0.98131321 0.98045858 0.97430569 0.97117221\n",
            " 0.97174188 0.97419172 0.96820965 0.8094179  0.79335505 0.76513731\n",
            " 0.72952533 0.6914829  0.65491188 0.62235665 0.59513104 0.57360536\n",
            " 0.55752981 0.5463264  0.53930479 0.53579384]\n",
            "13 day output [[0.5351946]]\n",
            "14 day input [0.92029622 0.94040731 0.9416607  0.95071931 0.95208658 0.91340267\n",
            " 0.88292264 0.88645488 0.89317761 0.87574421 0.8638371  0.8725538\n",
            " 0.86839478 0.88525851 0.89152546 0.8711295  0.8622418  0.86714139\n",
            " 0.87449082 0.85101841 0.84230162 0.84378295 0.84674551 0.86121635\n",
            " 0.8535251  0.86070362 0.86782511 0.88252389 0.89106968 0.88765133\n",
            " 0.89568439 0.90086886 0.89027207 0.88953141 0.88058677 0.87312346\n",
            " 0.87095859 0.85625982 0.85694345 0.85945023 0.84611882 0.82213359\n",
            " 0.82971087 0.84150402 0.84423873 0.86246974 0.88297967 0.87773818\n",
            " 0.89243695 0.90719275 0.9132887  0.91055407 0.93328582 0.92417036\n",
            " 0.93921095 0.9424583  0.9521436  0.95202964 0.96205667 0.95744195\n",
            " 0.96125906 0.95362484 0.9525993  0.9560746  0.95020649 0.95351088\n",
            " 0.9608603  0.95054831 0.97328015 0.96701328 0.9781228  0.98632677\n",
            " 0.97191279 0.98062957 0.99914546 1.         0.99692355 0.98735222\n",
            " 0.99333429 0.98131321 0.98045858 0.97430569 0.97117221 0.97174188\n",
            " 0.97419172 0.96820965 0.8094179  0.79335505 0.76513731 0.72952533\n",
            " 0.6914829  0.65491188 0.62235665 0.59513104 0.57360536 0.55752981\n",
            " 0.5463264  0.53930479 0.53579384 0.53519458]\n",
            "14 day output [[0.536986]]\n",
            "15 day input [0.94040731 0.9416607  0.95071931 0.95208658 0.91340267 0.88292264\n",
            " 0.88645488 0.89317761 0.87574421 0.8638371  0.8725538  0.86839478\n",
            " 0.88525851 0.89152546 0.8711295  0.8622418  0.86714139 0.87449082\n",
            " 0.85101841 0.84230162 0.84378295 0.84674551 0.86121635 0.8535251\n",
            " 0.86070362 0.86782511 0.88252389 0.89106968 0.88765133 0.89568439\n",
            " 0.90086886 0.89027207 0.88953141 0.88058677 0.87312346 0.87095859\n",
            " 0.85625982 0.85694345 0.85945023 0.84611882 0.82213359 0.82971087\n",
            " 0.84150402 0.84423873 0.86246974 0.88297967 0.87773818 0.89243695\n",
            " 0.90719275 0.9132887  0.91055407 0.93328582 0.92417036 0.93921095\n",
            " 0.9424583  0.9521436  0.95202964 0.96205667 0.95744195 0.96125906\n",
            " 0.95362484 0.9525993  0.9560746  0.95020649 0.95351088 0.9608603\n",
            " 0.95054831 0.97328015 0.96701328 0.9781228  0.98632677 0.97191279\n",
            " 0.98062957 0.99914546 1.         0.99692355 0.98735222 0.99333429\n",
            " 0.98131321 0.98045858 0.97430569 0.97117221 0.97174188 0.97419172\n",
            " 0.96820965 0.8094179  0.79335505 0.76513731 0.72952533 0.6914829\n",
            " 0.65491188 0.62235665 0.59513104 0.57360536 0.55752981 0.5463264\n",
            " 0.53930479 0.53579384 0.53519458 0.53698599]\n",
            "15 day output [[0.5407064]]\n",
            "16 day input [0.9416607  0.95071931 0.95208658 0.91340267 0.88292264 0.88645488\n",
            " 0.89317761 0.87574421 0.8638371  0.8725538  0.86839478 0.88525851\n",
            " 0.89152546 0.8711295  0.8622418  0.86714139 0.87449082 0.85101841\n",
            " 0.84230162 0.84378295 0.84674551 0.86121635 0.8535251  0.86070362\n",
            " 0.86782511 0.88252389 0.89106968 0.88765133 0.89568439 0.90086886\n",
            " 0.89027207 0.88953141 0.88058677 0.87312346 0.87095859 0.85625982\n",
            " 0.85694345 0.85945023 0.84611882 0.82213359 0.82971087 0.84150402\n",
            " 0.84423873 0.86246974 0.88297967 0.87773818 0.89243695 0.90719275\n",
            " 0.9132887  0.91055407 0.93328582 0.92417036 0.93921095 0.9424583\n",
            " 0.9521436  0.95202964 0.96205667 0.95744195 0.96125906 0.95362484\n",
            " 0.9525993  0.9560746  0.95020649 0.95351088 0.9608603  0.95054831\n",
            " 0.97328015 0.96701328 0.9781228  0.98632677 0.97191279 0.98062957\n",
            " 0.99914546 1.         0.99692355 0.98735222 0.99333429 0.98131321\n",
            " 0.98045858 0.97430569 0.97117221 0.97174188 0.97419172 0.96820965\n",
            " 0.8094179  0.79335505 0.76513731 0.72952533 0.6914829  0.65491188\n",
            " 0.62235665 0.59513104 0.57360536 0.55752981 0.5463264  0.53930479\n",
            " 0.53579384 0.53519458 0.53698599 0.5407064 ]\n",
            "16 day output [[0.54592955]]\n",
            "17 day input [0.95071931 0.95208658 0.91340267 0.88292264 0.88645488 0.89317761\n",
            " 0.87574421 0.8638371  0.8725538  0.86839478 0.88525851 0.89152546\n",
            " 0.8711295  0.8622418  0.86714139 0.87449082 0.85101841 0.84230162\n",
            " 0.84378295 0.84674551 0.86121635 0.8535251  0.86070362 0.86782511\n",
            " 0.88252389 0.89106968 0.88765133 0.89568439 0.90086886 0.89027207\n",
            " 0.88953141 0.88058677 0.87312346 0.87095859 0.85625982 0.85694345\n",
            " 0.85945023 0.84611882 0.82213359 0.82971087 0.84150402 0.84423873\n",
            " 0.86246974 0.88297967 0.87773818 0.89243695 0.90719275 0.9132887\n",
            " 0.91055407 0.93328582 0.92417036 0.93921095 0.9424583  0.9521436\n",
            " 0.95202964 0.96205667 0.95744195 0.96125906 0.95362484 0.9525993\n",
            " 0.9560746  0.95020649 0.95351088 0.9608603  0.95054831 0.97328015\n",
            " 0.96701328 0.9781228  0.98632677 0.97191279 0.98062957 0.99914546\n",
            " 1.         0.99692355 0.98735222 0.99333429 0.98131321 0.98045858\n",
            " 0.97430569 0.97117221 0.97174188 0.97419172 0.96820965 0.8094179\n",
            " 0.79335505 0.76513731 0.72952533 0.6914829  0.65491188 0.62235665\n",
            " 0.59513104 0.57360536 0.55752981 0.5463264  0.53930479 0.53579384\n",
            " 0.53519458 0.53698599 0.5407064  0.54592955]\n",
            "17 day output [[0.5522456]]\n",
            "18 day input [0.95208658 0.91340267 0.88292264 0.88645488 0.89317761 0.87574421\n",
            " 0.8638371  0.8725538  0.86839478 0.88525851 0.89152546 0.8711295\n",
            " 0.8622418  0.86714139 0.87449082 0.85101841 0.84230162 0.84378295\n",
            " 0.84674551 0.86121635 0.8535251  0.86070362 0.86782511 0.88252389\n",
            " 0.89106968 0.88765133 0.89568439 0.90086886 0.89027207 0.88953141\n",
            " 0.88058677 0.87312346 0.87095859 0.85625982 0.85694345 0.85945023\n",
            " 0.84611882 0.82213359 0.82971087 0.84150402 0.84423873 0.86246974\n",
            " 0.88297967 0.87773818 0.89243695 0.90719275 0.9132887  0.91055407\n",
            " 0.93328582 0.92417036 0.93921095 0.9424583  0.9521436  0.95202964\n",
            " 0.96205667 0.95744195 0.96125906 0.95362484 0.9525993  0.9560746\n",
            " 0.95020649 0.95351088 0.9608603  0.95054831 0.97328015 0.96701328\n",
            " 0.9781228  0.98632677 0.97191279 0.98062957 0.99914546 1.\n",
            " 0.99692355 0.98735222 0.99333429 0.98131321 0.98045858 0.97430569\n",
            " 0.97117221 0.97174188 0.97419172 0.96820965 0.8094179  0.79335505\n",
            " 0.76513731 0.72952533 0.6914829  0.65491188 0.62235665 0.59513104\n",
            " 0.57360536 0.55752981 0.5463264  0.53930479 0.53579384 0.53519458\n",
            " 0.53698599 0.5407064  0.54592955 0.55224562]\n",
            "18 day output [[0.5592521]]\n",
            "19 day input [0.91340267 0.88292264 0.88645488 0.89317761 0.87574421 0.8638371\n",
            " 0.8725538  0.86839478 0.88525851 0.89152546 0.8711295  0.8622418\n",
            " 0.86714139 0.87449082 0.85101841 0.84230162 0.84378295 0.84674551\n",
            " 0.86121635 0.8535251  0.86070362 0.86782511 0.88252389 0.89106968\n",
            " 0.88765133 0.89568439 0.90086886 0.89027207 0.88953141 0.88058677\n",
            " 0.87312346 0.87095859 0.85625982 0.85694345 0.85945023 0.84611882\n",
            " 0.82213359 0.82971087 0.84150402 0.84423873 0.86246974 0.88297967\n",
            " 0.87773818 0.89243695 0.90719275 0.9132887  0.91055407 0.93328582\n",
            " 0.92417036 0.93921095 0.9424583  0.9521436  0.95202964 0.96205667\n",
            " 0.95744195 0.96125906 0.95362484 0.9525993  0.9560746  0.95020649\n",
            " 0.95351088 0.9608603  0.95054831 0.97328015 0.96701328 0.9781228\n",
            " 0.98632677 0.97191279 0.98062957 0.99914546 1.         0.99692355\n",
            " 0.98735222 0.99333429 0.98131321 0.98045858 0.97430569 0.97117221\n",
            " 0.97174188 0.97419172 0.96820965 0.8094179  0.79335505 0.76513731\n",
            " 0.72952533 0.6914829  0.65491188 0.62235665 0.59513104 0.57360536\n",
            " 0.55752981 0.5463264  0.53930479 0.53579384 0.53519458 0.53698599\n",
            " 0.5407064  0.54592955 0.55224562 0.55925208]\n",
            "19 day output [[0.56654984]]\n",
            "20 day input [0.88292264 0.88645488 0.89317761 0.87574421 0.8638371  0.8725538\n",
            " 0.86839478 0.88525851 0.89152546 0.8711295  0.8622418  0.86714139\n",
            " 0.87449082 0.85101841 0.84230162 0.84378295 0.84674551 0.86121635\n",
            " 0.8535251  0.86070362 0.86782511 0.88252389 0.89106968 0.88765133\n",
            " 0.89568439 0.90086886 0.89027207 0.88953141 0.88058677 0.87312346\n",
            " 0.87095859 0.85625982 0.85694345 0.85945023 0.84611882 0.82213359\n",
            " 0.82971087 0.84150402 0.84423873 0.86246974 0.88297967 0.87773818\n",
            " 0.89243695 0.90719275 0.9132887  0.91055407 0.93328582 0.92417036\n",
            " 0.93921095 0.9424583  0.9521436  0.95202964 0.96205667 0.95744195\n",
            " 0.96125906 0.95362484 0.9525993  0.9560746  0.95020649 0.95351088\n",
            " 0.9608603  0.95054831 0.97328015 0.96701328 0.9781228  0.98632677\n",
            " 0.97191279 0.98062957 0.99914546 1.         0.99692355 0.98735222\n",
            " 0.99333429 0.98131321 0.98045858 0.97430569 0.97117221 0.97174188\n",
            " 0.97419172 0.96820965 0.8094179  0.79335505 0.76513731 0.72952533\n",
            " 0.6914829  0.65491188 0.62235665 0.59513104 0.57360536 0.55752981\n",
            " 0.5463264  0.53930479 0.53579384 0.53519458 0.53698599 0.5407064\n",
            " 0.54592955 0.55224562 0.55925208 0.56654984]\n",
            "20 day output [[0.5737489]]\n",
            "21 day input [0.88645488 0.89317761 0.87574421 0.8638371  0.8725538  0.86839478\n",
            " 0.88525851 0.89152546 0.8711295  0.8622418  0.86714139 0.87449082\n",
            " 0.85101841 0.84230162 0.84378295 0.84674551 0.86121635 0.8535251\n",
            " 0.86070362 0.86782511 0.88252389 0.89106968 0.88765133 0.89568439\n",
            " 0.90086886 0.89027207 0.88953141 0.88058677 0.87312346 0.87095859\n",
            " 0.85625982 0.85694345 0.85945023 0.84611882 0.82213359 0.82971087\n",
            " 0.84150402 0.84423873 0.86246974 0.88297967 0.87773818 0.89243695\n",
            " 0.90719275 0.9132887  0.91055407 0.93328582 0.92417036 0.93921095\n",
            " 0.9424583  0.9521436  0.95202964 0.96205667 0.95744195 0.96125906\n",
            " 0.95362484 0.9525993  0.9560746  0.95020649 0.95351088 0.9608603\n",
            " 0.95054831 0.97328015 0.96701328 0.9781228  0.98632677 0.97191279\n",
            " 0.98062957 0.99914546 1.         0.99692355 0.98735222 0.99333429\n",
            " 0.98131321 0.98045858 0.97430569 0.97117221 0.97174188 0.97419172\n",
            " 0.96820965 0.8094179  0.79335505 0.76513731 0.72952533 0.6914829\n",
            " 0.65491188 0.62235665 0.59513104 0.57360536 0.55752981 0.5463264\n",
            " 0.53930479 0.53579384 0.53519458 0.53698599 0.5407064  0.54592955\n",
            " 0.55224562 0.55925208 0.56654984 0.57374889]\n",
            "21 day output [[0.5804745]]\n",
            "22 day input [0.89317761 0.87574421 0.8638371  0.8725538  0.86839478 0.88525851\n",
            " 0.89152546 0.8711295  0.8622418  0.86714139 0.87449082 0.85101841\n",
            " 0.84230162 0.84378295 0.84674551 0.86121635 0.8535251  0.86070362\n",
            " 0.86782511 0.88252389 0.89106968 0.88765133 0.89568439 0.90086886\n",
            " 0.89027207 0.88953141 0.88058677 0.87312346 0.87095859 0.85625982\n",
            " 0.85694345 0.85945023 0.84611882 0.82213359 0.82971087 0.84150402\n",
            " 0.84423873 0.86246974 0.88297967 0.87773818 0.89243695 0.90719275\n",
            " 0.9132887  0.91055407 0.93328582 0.92417036 0.93921095 0.9424583\n",
            " 0.9521436  0.95202964 0.96205667 0.95744195 0.96125906 0.95362484\n",
            " 0.9525993  0.9560746  0.95020649 0.95351088 0.9608603  0.95054831\n",
            " 0.97328015 0.96701328 0.9781228  0.98632677 0.97191279 0.98062957\n",
            " 0.99914546 1.         0.99692355 0.98735222 0.99333429 0.98131321\n",
            " 0.98045858 0.97430569 0.97117221 0.97174188 0.97419172 0.96820965\n",
            " 0.8094179  0.79335505 0.76513731 0.72952533 0.6914829  0.65491188\n",
            " 0.62235665 0.59513104 0.57360536 0.55752981 0.5463264  0.53930479\n",
            " 0.53579384 0.53519458 0.53698599 0.5407064  0.54592955 0.55224562\n",
            " 0.55925208 0.56654984 0.57374889 0.5804745 ]\n",
            "22 day output [[0.58637744]]\n",
            "23 day input [0.87574421 0.8638371  0.8725538  0.86839478 0.88525851 0.89152546\n",
            " 0.8711295  0.8622418  0.86714139 0.87449082 0.85101841 0.84230162\n",
            " 0.84378295 0.84674551 0.86121635 0.8535251  0.86070362 0.86782511\n",
            " 0.88252389 0.89106968 0.88765133 0.89568439 0.90086886 0.89027207\n",
            " 0.88953141 0.88058677 0.87312346 0.87095859 0.85625982 0.85694345\n",
            " 0.85945023 0.84611882 0.82213359 0.82971087 0.84150402 0.84423873\n",
            " 0.86246974 0.88297967 0.87773818 0.89243695 0.90719275 0.9132887\n",
            " 0.91055407 0.93328582 0.92417036 0.93921095 0.9424583  0.9521436\n",
            " 0.95202964 0.96205667 0.95744195 0.96125906 0.95362484 0.9525993\n",
            " 0.9560746  0.95020649 0.95351088 0.9608603  0.95054831 0.97328015\n",
            " 0.96701328 0.9781228  0.98632677 0.97191279 0.98062957 0.99914546\n",
            " 1.         0.99692355 0.98735222 0.99333429 0.98131321 0.98045858\n",
            " 0.97430569 0.97117221 0.97174188 0.97419172 0.96820965 0.8094179\n",
            " 0.79335505 0.76513731 0.72952533 0.6914829  0.65491188 0.62235665\n",
            " 0.59513104 0.57360536 0.55752981 0.5463264  0.53930479 0.53579384\n",
            " 0.53519458 0.53698599 0.5407064  0.54592955 0.55224562 0.55925208\n",
            " 0.56654984 0.57374889 0.5804745  0.58637744]\n",
            "23 day output [[0.5911428]]\n",
            "24 day input [0.8638371  0.8725538  0.86839478 0.88525851 0.89152546 0.8711295\n",
            " 0.8622418  0.86714139 0.87449082 0.85101841 0.84230162 0.84378295\n",
            " 0.84674551 0.86121635 0.8535251  0.86070362 0.86782511 0.88252389\n",
            " 0.89106968 0.88765133 0.89568439 0.90086886 0.89027207 0.88953141\n",
            " 0.88058677 0.87312346 0.87095859 0.85625982 0.85694345 0.85945023\n",
            " 0.84611882 0.82213359 0.82971087 0.84150402 0.84423873 0.86246974\n",
            " 0.88297967 0.87773818 0.89243695 0.90719275 0.9132887  0.91055407\n",
            " 0.93328582 0.92417036 0.93921095 0.9424583  0.9521436  0.95202964\n",
            " 0.96205667 0.95744195 0.96125906 0.95362484 0.9525993  0.9560746\n",
            " 0.95020649 0.95351088 0.9608603  0.95054831 0.97328015 0.96701328\n",
            " 0.9781228  0.98632677 0.97191279 0.98062957 0.99914546 1.\n",
            " 0.99692355 0.98735222 0.99333429 0.98131321 0.98045858 0.97430569\n",
            " 0.97117221 0.97174188 0.97419172 0.96820965 0.8094179  0.79335505\n",
            " 0.76513731 0.72952533 0.6914829  0.65491188 0.62235665 0.59513104\n",
            " 0.57360536 0.55752981 0.5463264  0.53930479 0.53579384 0.53519458\n",
            " 0.53698599 0.5407064  0.54592955 0.55224562 0.55925208 0.56654984\n",
            " 0.57374889 0.5804745  0.58637744 0.59114277]\n",
            "24 day output [[0.5944998]]\n",
            "25 day input [0.8725538  0.86839478 0.88525851 0.89152546 0.8711295  0.8622418\n",
            " 0.86714139 0.87449082 0.85101841 0.84230162 0.84378295 0.84674551\n",
            " 0.86121635 0.8535251  0.86070362 0.86782511 0.88252389 0.89106968\n",
            " 0.88765133 0.89568439 0.90086886 0.89027207 0.88953141 0.88058677\n",
            " 0.87312346 0.87095859 0.85625982 0.85694345 0.85945023 0.84611882\n",
            " 0.82213359 0.82971087 0.84150402 0.84423873 0.86246974 0.88297967\n",
            " 0.87773818 0.89243695 0.90719275 0.9132887  0.91055407 0.93328582\n",
            " 0.92417036 0.93921095 0.9424583  0.9521436  0.95202964 0.96205667\n",
            " 0.95744195 0.96125906 0.95362484 0.9525993  0.9560746  0.95020649\n",
            " 0.95351088 0.9608603  0.95054831 0.97328015 0.96701328 0.9781228\n",
            " 0.98632677 0.97191279 0.98062957 0.99914546 1.         0.99692355\n",
            " 0.98735222 0.99333429 0.98131321 0.98045858 0.97430569 0.97117221\n",
            " 0.97174188 0.97419172 0.96820965 0.8094179  0.79335505 0.76513731\n",
            " 0.72952533 0.6914829  0.65491188 0.62235665 0.59513104 0.57360536\n",
            " 0.55752981 0.5463264  0.53930479 0.53579384 0.53519458 0.53698599\n",
            " 0.5407064  0.54592955 0.55224562 0.55925208 0.56654984 0.57374889\n",
            " 0.5804745  0.58637744 0.59114277 0.59449983]\n",
            "25 day output [[0.5962301]]\n",
            "26 day input [0.86839478 0.88525851 0.89152546 0.8711295  0.8622418  0.86714139\n",
            " 0.87449082 0.85101841 0.84230162 0.84378295 0.84674551 0.86121635\n",
            " 0.8535251  0.86070362 0.86782511 0.88252389 0.89106968 0.88765133\n",
            " 0.89568439 0.90086886 0.89027207 0.88953141 0.88058677 0.87312346\n",
            " 0.87095859 0.85625982 0.85694345 0.85945023 0.84611882 0.82213359\n",
            " 0.82971087 0.84150402 0.84423873 0.86246974 0.88297967 0.87773818\n",
            " 0.89243695 0.90719275 0.9132887  0.91055407 0.93328582 0.92417036\n",
            " 0.93921095 0.9424583  0.9521436  0.95202964 0.96205667 0.95744195\n",
            " 0.96125906 0.95362484 0.9525993  0.9560746  0.95020649 0.95351088\n",
            " 0.9608603  0.95054831 0.97328015 0.96701328 0.9781228  0.98632677\n",
            " 0.97191279 0.98062957 0.99914546 1.         0.99692355 0.98735222\n",
            " 0.99333429 0.98131321 0.98045858 0.97430569 0.97117221 0.97174188\n",
            " 0.97419172 0.96820965 0.8094179  0.79335505 0.76513731 0.72952533\n",
            " 0.6914829  0.65491188 0.62235665 0.59513104 0.57360536 0.55752981\n",
            " 0.5463264  0.53930479 0.53579384 0.53519458 0.53698599 0.5407064\n",
            " 0.54592955 0.55224562 0.55925208 0.56654984 0.57374889 0.5804745\n",
            " 0.58637744 0.59114277 0.59449983 0.59623009]\n",
            "26 day output [[0.5961757]]\n",
            "27 day input [0.88525851 0.89152546 0.8711295  0.8622418  0.86714139 0.87449082\n",
            " 0.85101841 0.84230162 0.84378295 0.84674551 0.86121635 0.8535251\n",
            " 0.86070362 0.86782511 0.88252389 0.89106968 0.88765133 0.89568439\n",
            " 0.90086886 0.89027207 0.88953141 0.88058677 0.87312346 0.87095859\n",
            " 0.85625982 0.85694345 0.85945023 0.84611882 0.82213359 0.82971087\n",
            " 0.84150402 0.84423873 0.86246974 0.88297967 0.87773818 0.89243695\n",
            " 0.90719275 0.9132887  0.91055407 0.93328582 0.92417036 0.93921095\n",
            " 0.9424583  0.9521436  0.95202964 0.96205667 0.95744195 0.96125906\n",
            " 0.95362484 0.9525993  0.9560746  0.95020649 0.95351088 0.9608603\n",
            " 0.95054831 0.97328015 0.96701328 0.9781228  0.98632677 0.97191279\n",
            " 0.98062957 0.99914546 1.         0.99692355 0.98735222 0.99333429\n",
            " 0.98131321 0.98045858 0.97430569 0.97117221 0.97174188 0.97419172\n",
            " 0.96820965 0.8094179  0.79335505 0.76513731 0.72952533 0.6914829\n",
            " 0.65491188 0.62235665 0.59513104 0.57360536 0.55752981 0.5463264\n",
            " 0.53930479 0.53579384 0.53519458 0.53698599 0.5407064  0.54592955\n",
            " 0.55224562 0.55925208 0.56654984 0.57374889 0.5804745  0.58637744\n",
            " 0.59114277 0.59449983 0.59623009 0.59617567]\n",
            "27 day output [[0.5942453]]\n",
            "28 day input [0.89152546 0.8711295  0.8622418  0.86714139 0.87449082 0.85101841\n",
            " 0.84230162 0.84378295 0.84674551 0.86121635 0.8535251  0.86070362\n",
            " 0.86782511 0.88252389 0.89106968 0.88765133 0.89568439 0.90086886\n",
            " 0.89027207 0.88953141 0.88058677 0.87312346 0.87095859 0.85625982\n",
            " 0.85694345 0.85945023 0.84611882 0.82213359 0.82971087 0.84150402\n",
            " 0.84423873 0.86246974 0.88297967 0.87773818 0.89243695 0.90719275\n",
            " 0.9132887  0.91055407 0.93328582 0.92417036 0.93921095 0.9424583\n",
            " 0.9521436  0.95202964 0.96205667 0.95744195 0.96125906 0.95362484\n",
            " 0.9525993  0.9560746  0.95020649 0.95351088 0.9608603  0.95054831\n",
            " 0.97328015 0.96701328 0.9781228  0.98632677 0.97191279 0.98062957\n",
            " 0.99914546 1.         0.99692355 0.98735222 0.99333429 0.98131321\n",
            " 0.98045858 0.97430569 0.97117221 0.97174188 0.97419172 0.96820965\n",
            " 0.8094179  0.79335505 0.76513731 0.72952533 0.6914829  0.65491188\n",
            " 0.62235665 0.59513104 0.57360536 0.55752981 0.5463264  0.53930479\n",
            " 0.53579384 0.53519458 0.53698599 0.5407064  0.54592955 0.55224562\n",
            " 0.55925208 0.56654984 0.57374889 0.5804745  0.58637744 0.59114277\n",
            " 0.59449983 0.59623009 0.59617567 0.59424531]\n",
            "28 day output [[0.590419]]\n",
            "29 day input [0.8711295  0.8622418  0.86714139 0.87449082 0.85101841 0.84230162\n",
            " 0.84378295 0.84674551 0.86121635 0.8535251  0.86070362 0.86782511\n",
            " 0.88252389 0.89106968 0.88765133 0.89568439 0.90086886 0.89027207\n",
            " 0.88953141 0.88058677 0.87312346 0.87095859 0.85625982 0.85694345\n",
            " 0.85945023 0.84611882 0.82213359 0.82971087 0.84150402 0.84423873\n",
            " 0.86246974 0.88297967 0.87773818 0.89243695 0.90719275 0.9132887\n",
            " 0.91055407 0.93328582 0.92417036 0.93921095 0.9424583  0.9521436\n",
            " 0.95202964 0.96205667 0.95744195 0.96125906 0.95362484 0.9525993\n",
            " 0.9560746  0.95020649 0.95351088 0.9608603  0.95054831 0.97328015\n",
            " 0.96701328 0.9781228  0.98632677 0.97191279 0.98062957 0.99914546\n",
            " 1.         0.99692355 0.98735222 0.99333429 0.98131321 0.98045858\n",
            " 0.97430569 0.97117221 0.97174188 0.97419172 0.96820965 0.8094179\n",
            " 0.79335505 0.76513731 0.72952533 0.6914829  0.65491188 0.62235665\n",
            " 0.59513104 0.57360536 0.55752981 0.5463264  0.53930479 0.53579384\n",
            " 0.53519458 0.53698599 0.5407064  0.54592955 0.55224562 0.55925208\n",
            " 0.56654984 0.57374889 0.5804745  0.58637744 0.59114277 0.59449983\n",
            " 0.59623009 0.59617567 0.59424531 0.59041899]\n",
            "29 day output [[0.5847486]]\n",
            "[[0.8094179034233093], [0.7933550477027893], [0.7651373147964478], [0.7295253276824951], [0.6914829015731812], [0.6549118757247925], [0.622356653213501], [0.5951310396194458], [0.5736053586006165], [0.5575298070907593], [0.5463263988494873], [0.539304792881012], [0.5357938408851624], [0.5351945757865906], [0.5369859933853149], [0.5407063961029053], [0.5459295511245728], [0.5522456169128418], [0.5592520833015442], [0.5665498375892639], [0.5737488865852356], [0.5804744958877563], [0.5863774418830872], [0.5911427736282349], [0.5944998264312744], [0.5962300896644592], [0.5961756706237793], [0.5942453145980835], [0.5904189944267273], [0.5847486257553101]]\n"
          ]
        }
      ]
    },
    {
      "cell_type": "code",
      "source": [
        "day_new=np.arange(1,101)\n",
        "day_pred=np.arange(101,131)"
      ],
      "metadata": {
        "id": "j3dc1Rdh7wgI"
      },
      "execution_count": null,
      "outputs": []
    },
    {
      "cell_type": "code",
      "source": [
        "import matplotlib.pyplot as plt\n"
      ],
      "metadata": {
        "id": "IqSDm_i07-ct"
      },
      "execution_count": null,
      "outputs": []
    },
    {
      "cell_type": "code",
      "source": [
        "len(df1)"
      ],
      "metadata": {
        "colab": {
          "base_uri": "https://localhost:8080/"
        },
        "id": "RwldafV67ztM",
        "outputId": "8c761b41-a3c8-4d64-9538-16789ec757ef"
      },
      "execution_count": null,
      "outputs": [
        {
          "output_type": "execute_result",
          "data": {
            "text/plain": [
              "2264"
            ]
          },
          "metadata": {},
          "execution_count": 48
        }
      ]
    },
    {
      "cell_type": "code",
      "source": [
        "# Adjust day_new to match the size of df1[1158:]\n",
        "day_new = np.arange(1158, len(df1))  # Create x-axis points for df1[1158:]\n",
        "\n",
        "# Now plot the data\n",
        "plt.plot(day_new, scaler.inverse_transform(df1[1158:]))  # Ensure lengths match\n",
        "plt.plot(np.arange(len(day_new), len(day_new) + len(lst_output)), scaler.inverse_transform(lst_output))\n",
        "\n",
        "plt.show()\n"
      ],
      "metadata": {
        "colab": {
          "base_uri": "https://localhost:8080/",
          "height": 430
        },
        "id": "y7U41uAT75Fk",
        "outputId": "e3982c91-4528-4e53-e149-fbda50d39329"
      },
      "execution_count": null,
      "outputs": [
        {
          "output_type": "display_data",
          "data": {
            "text/plain": [
              "<Figure size 640x480 with 1 Axes>"
            ],
            "image/png": "[encoded data removed]"
          },
          "metadata": {}
        }
      ]
    },
    {
      "cell_type": "code",
      "source": [
        "df3=df1.tolist()\n",
        "df3.extend(lst_output)\n",
        "plt.plot(df3[1200:])"
      ],
      "metadata": {
        "colab": {
          "base_uri": "https://localhost:8080/",
          "height": 447
        },
        "id": "kDHJS6Aq8biI",
        "outputId": "ff8be5a4-6ddf-4026-dd85-d0af230e5a97"
      },
      "execution_count": null,
      "outputs": [
        {
          "output_type": "execute_result",
          "data": {
            "text/plain": [
              "[<matplotlib.lines.Line2D at 0x7e4792898fa0>]"
            ]
          },
          "metadata": {},
          "execution_count": 51
        },
        {
          "output_type": "display_data",
          "data": {
            "text/plain": [
              "<Figure size 640x480 with 1 Axes>"
            ],
            "image/png": "[encoded data removed]"
          },
          "metadata": {}
        }
      ]
    },
    {
      "cell_type": "code",
      "source": [
        "df3=scaler.inverse_transform(df3).tolist()"
      ],
      "metadata": {
        "id": "hcFvdI0M8h5V"
      },
      "execution_count": null,
      "outputs": []
    },
    {
      "cell_type": "code",
      "source": [
        "plt.plot(df3)"
      ],
      "metadata": {
        "colab": {
          "base_uri": "https://localhost:8080/",
          "height": 447
        },
        "id": "W2UisapR8kSt",
        "outputId": "cd1d0afe-84fb-4824-a5e4-6e744edbd8ea"
      },
      "execution_count": null,
      "outputs": [
        {
          "output_type": "execute_result",
          "data": {
            "text/plain": [
              "[<matplotlib.lines.Line2D at 0x7e47928590c0>]"
            ]
          },
          "metadata": {},
          "execution_count": 53
        },
        {
          "output_type": "display_data",
          "data": {
            "text/plain": [
              "<Figure size 640x480 with 1 Axes>"
            ],
            "image/png": "[encoded data removed]"
          },
          "metadata": {}
        }
      ]
    }
  ]
}